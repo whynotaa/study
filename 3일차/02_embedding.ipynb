{
 "cells": [
  {
   "cell_type": "code",
   "execution_count": 1,
   "metadata": {},
   "outputs": [
    {
     "name": "stderr",
     "output_type": "stream",
     "text": [
      "c:\\Users\\AISW-203-102\\그리드원수업\\myenv\\lib\\site-packages\\sentence_transformers\\cross_encoder\\CrossEncoder.py:13: TqdmWarning: IProgress not found. Please update jupyter and ipywidgets. See https://ipywidgets.readthedocs.io/en/stable/user_install.html\n",
      "  from tqdm.autonotebook import tqdm, trange\n",
      "c:\\Users\\AISW-203-102\\그리드원수업\\myenv\\lib\\site-packages\\transformers\\tokenization_utils_base.py:1617: FutureWarning: `clean_up_tokenization_spaces` was not set. It will be set to `True` by default. This behavior will be deprecated in transformers v4.45, and will be then set to `False` by default. For more details check this issue: https://github.com/huggingface/transformers/issues/31884\n",
      "  warnings.warn(\n"
     ]
    }
   ],
   "source": [
    "from sentence_transformers import SentenceTransformer, util\n",
    "import numpy as np\n",
    " \n",
    "embedder = SentenceTransformer(\"jhgan/ko-sroberta-multitask\")"
   ]
  },
  {
   "cell_type": "code",
   "execution_count": 5,
   "metadata": {},
   "outputs": [
    {
     "name": "stdout",
     "output_type": "stream",
     "text": [
      "tensor([[-0.5619,  0.1226, -0.4700,  ..., -0.0455, -0.3756,  0.1776],\n",
      "        [-0.3376, -0.2214, -0.0025,  ...,  0.0600, -0.6769, -0.4342],\n",
      "        [-0.7826, -0.1740,  0.1349,  ...,  0.2548, -0.5911,  0.0124]])\n"
     ]
    }
   ],
   "source": [
    "# Corpus with example sentences\n",
    "corpus = ['나는 배를 타고 사과를 먹었다.',\n",
    "        '비행기를 타고 폴란드를 갔다',\n",
    "        '자동차를 타고 사과를 먹었더니 배가 부르다.'\n",
    "]\n",
    "corpus_embeddings = embedder.encode(corpus, convert_to_tensor=True)\n",
    "print(corpus_embeddings)"
   ]
  },
  {
   "cell_type": "code",
   "execution_count": 11,
   "metadata": {},
   "outputs": [
    {
     "name": "stdout",
     "output_type": "stream",
     "text": [
      "\n",
      "\n",
      "======================\n",
      "\n",
      "\n",
      "Query: 나는 비행기를 타고 영국을 갔다.\n",
      "\n",
      "Top 5 most similar sentences in corpus:\n",
      "나는 배를 타고 사과를 먹었다. (Score: 0.3542)\n",
      "비행기를 타고 폴란드를 갔다 (Score: 0.2803)\n",
      "자동차를 타고 사과를 먹었더니 배가 부르다. (Score: 0.1877)\n"
     ]
    }
   ],
   "source": [
    "# Query sentences:\n",
    "queries = ['나는 비행기를 타고 영국을 갔다.']\n",
    " \n",
    "# Find the closest 5 sentences of the corpus for each query sentence based on cosine similarity\n",
    "top_k = 3\n",
    "for query in queries:\n",
    " query_embedding = embedder.encode(query, convert_to_tensor=True)\n",
    " cos_scores = util.pytorch_cos_sim(query_embedding, corpus_embeddings)[0]\n",
    " cos_scores = cos_scores.cpu()\n",
    " \n",
    " #We use np.argpartition, to only partially sort the top_k results\n",
    " top_results = np.argpartition(-cos_scores, range(top_k))[0:top_k]\n",
    " \n",
    " \n",
    " \n",
    " print(\"\\n\\n======================\\n\\n\")\n",
    " print(\"Query:\", query)\n",
    " print(\"\\nTop 5 most similar sentences in corpus:\")\n",
    " \n",
    " for idx in top_results[0:top_k]:\n",
    "  print(corpus[idx].strip(), \"(Score: %.4f)\" % (cos_scores[idx]))"
   ]
  }
 ],
 "metadata": {
  "kernelspec": {
   "display_name": "Python 3",
   "language": "python",
   "name": "python3"
  },
  "language_info": {
   "codemirror_mode": {
    "name": "ipython",
    "version": 3
   },
   "file_extension": ".py",
   "mimetype": "text/x-python",
   "name": "python",
   "nbconvert_exporter": "python",
   "pygments_lexer": "ipython3",
   "version": "3.10.11"
  }
 },
 "nbformat": 4,
 "nbformat_minor": 2
}

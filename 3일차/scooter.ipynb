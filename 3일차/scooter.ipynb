{
 "cells": [
  {
   "cell_type": "code",
   "execution_count": 40,
   "metadata": {},
   "outputs": [
    {
     "name": "stdout",
     "output_type": "stream",
     "text": [
      "{'parkingKickboard': {'list_total_count': 190, 'RESULT': {'CODE': 'INFO-000', 'MESSAGE': '정상 처리되었습니다'}, 'row': [{'SN': 1.0, 'SGG_NM': '종로구', 'PSTN': '팔판동 115-63', 'DTL_PSTN': '청와대 춘추문 맞은편 인근', 'STAND_YN': 'Y', 'STAND_SIZE': 6.0}, {'SN': 2.0, 'SGG_NM': '종로구', 'PSTN': '연건동 218-1', 'DTL_PSTN': 'KT광화문 혜화지사 앞', 'STAND_YN': 'Y', 'STAND_SIZE': 6.0}, {'SN': 3.0, 'SGG_NM': '종로구', 'PSTN': '연건동 178-3', 'DTL_PSTN': '홍익대학교 대학로 맞은편', 'STAND_YN': 'Y', 'STAND_SIZE': 6.0}, {'SN': 4.0, 'SGG_NM': '종로구', 'PSTN': '동승동 1-24', 'DTL_PSTN': '대학로 마로니에공원 앞', 'STAND_YN': 'Y', 'STAND_SIZE': 8.0}, {'SN': 5.0, 'SGG_NM': '종로구', 'PSTN': '와룡동 75-4', 'DTL_PSTN': '연악사 맞은편', 'STAND_YN': 'Y', 'STAND_SIZE': 8.0}]}}\n"
     ]
    }
   ],
   "source": [
    "key = '6448425a457377653630797a536a4c'\n",
    "\n",
    "# https://www.data.go.kr/data/15073855/openapi.do\n",
    "import json\n",
    "import requests\n",
    "url = 'http://openapi.seoul.go.kr:8088/6448425a457377653630797a536a4c/json/parkingKickboard/1/5/'\n",
    "\n",
    "response = requests.get(url)\n",
    "content = response.content.decode('utf-8')\n",
    "data = json.loads(content)\n",
    "print(data)"
   ]
  },
  {
   "cell_type": "code",
   "execution_count": 41,
   "metadata": {},
   "outputs": [
    {
     "name": "stdout",
     "output_type": "stream",
     "text": [
      "[{'순번': 1.0, '시군구명': '종로구', '주소': '팔판동 115-63', '상세위치': '청와대 춘추문 맞은편 인근', '거치대 유무': 'Y', '거치대 크기': 6.0}, {'순번': 2.0, '시군구명': '종로구', '주소': '연건동 218-1', '상세위치': 'KT광화문 혜화지사 앞', '거치대 유무': 'Y', '거치대 크기': 6.0}, {'순번': 3.0, '시군구명': '종로구', '주소': '연건동 178-3', '상세위치': '홍익대학교 대학로 맞은편', '거치대 유무': 'Y', '거치대 크기': 6.0}, {'순번': 4.0, '시군구명': '종로구', '주소': '동승동 1-24', '상세위치': '대학로 마로니에공원 앞', '거치대 유무': 'Y', '거치대 크기': 8.0}, {'순번': 5.0, '시군구명': '종로구', '주소': '와룡동 75-4', '상세위치': '연악사 맞은편', '거치대 유무': 'Y', '거치대 크기': 8.0}]\n"
     ]
    },
    {
     "data": {
      "text/plain": [
       "{'순번': 2.0,\n",
       " '시군구명': '종로구',\n",
       " '주소': '연건동 218-1',\n",
       " '상세위치': 'KT광화문 혜화지사 앞',\n",
       " '거치대 유무': 'Y',\n",
       " '거치대 크기': 6.0}"
      ]
     },
     "execution_count": 41,
     "metadata": {},
     "output_type": "execute_result"
    }
   ],
   "source": [
    "def scoot_parklot_data(data):\n",
    "    items = data['parkingKickboard']['row']\n",
    "    scooter_info = []\n",
    "    for item in items:\n",
    "        info = {\n",
    "            '순번': item.get('SN'),\n",
    "            '시군구명': item.get('SGG_NM'),\n",
    "            '주소': item.get('PSTN'),\n",
    "            '상세위치': item.get('DTL_PSTN'),\n",
    "            '거치대 유무': item.get('STAND_YN'),\n",
    "            '거치대 크기': item.get('STAND_SIZE'),\n",
    "\n",
    "        }\n",
    "        scooter_info.append(info)\n",
    "    return scooter_info\n",
    "\n",
    "scooter_info = scoot_parklot_data(data)\n",
    "print(scooter_info)\n",
    "scooter_info[1]\n",
    "\n"
   ]
  },
  {
   "cell_type": "code",
   "execution_count": 42,
   "metadata": {},
   "outputs": [
    {
     "name": "stdout",
     "output_type": "stream",
     "text": [
      "[Document(metadata={}, page_content='순번: 1.0, 시군구명: 종로구, 주소: 팔판동 115-63, 상세위치: 청와대 춘추문 맞은편 인근, 거치대 유무: Y, 거치대 크기: 6.0'), Document(metadata={}, page_content='순번: 2.0, 시군구명: 종로구, 주소: 연건동 218-1, 상세위치: KT광화문 혜화지사 앞, 거치대 유무: Y, 거치대 크기: 6.0'), Document(metadata={}, page_content='순번: 3.0, 시군구명: 종로구, 주소: 연건동 178-3, 상세위치: 홍익대학교 대학로 맞은편, 거치대 유무: Y, 거치대 크기: 6.0'), Document(metadata={}, page_content='순번: 4.0, 시군구명: 종로구, 주소: 동승동 1-24, 상세위치: 대학로 마로니에공원 앞, 거치대 유무: Y, 거치대 크기: 8.0'), Document(metadata={}, page_content='순번: 5.0, 시군구명: 종로구, 주소: 와룡동 75-4, 상세위치: 연악사 맞은편, 거치대 유무: Y, 거치대 크기: 8.0')]\n"
     ]
    }
   ],
   "source": [
    "from langchain_community.vectorstores import FAISS\n",
    "from langchain_text_splitters import RecursiveCharacterTextSplitter\n",
    "from langchain.schema import Document\n",
    "\n",
    "documents = [Document(page_content=\", \".join([f\"{key}: {str(info[key])}\" for key in ['순번','시군구명','주소','상세위치','거치대 유무','거치대 크기']])) for info in scooter_info]\n",
    "print(documents)\n",
    "\n"
   ]
  },
  {
   "cell_type": "code",
   "execution_count": 43,
   "metadata": {},
   "outputs": [
    {
     "name": "stderr",
     "output_type": "stream",
     "text": [
      "c:\\Users\\AISW-203-102\\study\\myenv\\lib\\site-packages\\transformers\\tokenization_utils_base.py:1617: FutureWarning: `clean_up_tokenization_spaces` was not set. It will be set to `True` by default. This behavior will be deprecated in transformers v4.45, and will be then set to `False` by default. For more details check this issue: https://github.com/huggingface/transformers/issues/31884\n",
      "  warnings.warn(\n"
     ]
    }
   ],
   "source": [
    "from langchain.embeddings.sentence_transformer import SentenceTransformerEmbeddings\n",
    "embedding_function = SentenceTransformerEmbeddings(model_name=\"jhgan/ko-sroberta-multitask\")"
   ]
  },
  {
   "cell_type": "code",
   "execution_count": 44,
   "metadata": {},
   "outputs": [],
   "source": [
    "from langchain.vectorstores import FAISS\n",
    "db = FAISS.from_documents(documents, embedding_function )"
   ]
  },
  {
   "cell_type": "code",
   "execution_count": 45,
   "metadata": {},
   "outputs": [
    {
     "name": "stdout",
     "output_type": "stream",
     "text": [
      "순번: 4.0, 시군구명: 종로구, 주소: 동승동 1-24, 상세위치: 대학로 마로니에공원 앞, 거치대 유무: Y, 거치대 크기: 8.0\n"
     ]
    },
    {
     "data": {
      "text/plain": [
       "[Document(metadata={}, page_content='순번: 4.0, 시군구명: 종로구, 주소: 동승동 1-24, 상세위치: 대학로 마로니에공원 앞, 거치대 유무: Y, 거치대 크기: 8.0'),\n",
       " Document(metadata={}, page_content='순번: 5.0, 시군구명: 종로구, 주소: 와룡동 75-4, 상세위치: 연악사 맞은편, 거치대 유무: Y, 거치대 크기: 8.0'),\n",
       " Document(metadata={}, page_content='순번: 3.0, 시군구명: 종로구, 주소: 연건동 178-3, 상세위치: 홍익대학교 대학로 맞은편, 거치대 유무: Y, 거치대 크기: 6.0'),\n",
       " Document(metadata={}, page_content='순번: 2.0, 시군구명: 종로구, 주소: 연건동 218-1, 상세위치: KT광화문 혜화지사 앞, 거치대 유무: Y, 거치대 크기: 6.0')]"
      ]
     },
     "execution_count": 45,
     "metadata": {},
     "output_type": "execute_result"
    }
   ],
   "source": [
    "query = \"종로구\"\n",
    "docs = db.similarity_search(query)\n",
    "print(docs[0].page_content)\n",
    "docs"
   ]
  },
  {
   "cell_type": "code",
   "execution_count": 46,
   "metadata": {},
   "outputs": [],
   "source": [
    "from langchain_community.chat_models import ChatOllama\n",
    "llm = ChatOllama(model=\"gemma2:9b\", temperature=0, base_url=\"http://127.0.0.1:11434/\") #http://127.0.0.1:11434"
   ]
  },
  {
   "cell_type": "code",
   "execution_count": 47,
   "metadata": {},
   "outputs": [
    {
     "name": "stdout",
     "output_type": "stream",
     "text": [
      "종로구 내 킥보드 주차 가능 지역은 다음과 같습니다.\n",
      "\n",
      "* **순번: 4.0**\n",
      "    * 시군구명: 종로구\n",
      "    * 주소: 동승동 1-24\n",
      "    * 상세위치: 대학로 마로니에공원 앞\n",
      "    * 거치대 유무: Y\n",
      "    * 거치대 크기: 8.0\n",
      "\n",
      "* **순번: 3.0**\n",
      "    * 시군구명: 종로구\n",
      "    * 주소: 연건동 178-3\n",
      "    * 상세위치: 홍익대학교 대학로 맞은편\n",
      "    * 거치대 유무: Y\n",
      "    * 거치대 크기: 6.0\n",
      "\n",
      "* **순번: 5.0**\n",
      "    * 시군구명: 종로구\n",
      "    * 주소: 와룡동 75-4\n",
      "    * 상세위치: 연악사 맞은편\n",
      "    * 거치대 유무: Y\n",
      "    * 거치대 크기: 8.0\n",
      "\n",
      "* **순번: 2.0**\n",
      "    * 시군구명: 종로구\n",
      "    * 주소: 연건동 218-1\n",
      "    * 상세위치: KT광화문 혜화지사 앞\n",
      "    * 거치대 유무: Y\n",
      "    * 거치대 크기: 6.0\n",
      "\n",
      "\n",
      "\n"
     ]
    }
   ],
   "source": [
    "from langchain.chains import RetrievalQA\n",
    "question = \"\"\"종로구 킥보드 주차구역 정보에 대해 알려줘\"\"\"\n",
    "qa_chain = RetrievalQA.from_chain_type(llm,retriever=db.as_retriever())\n",
    "result = qa_chain({\"query\": question})\n",
    "print(result['result'])"
   ]
  },
  {
   "cell_type": "code",
   "execution_count": 51,
   "metadata": {},
   "outputs": [],
   "source": [
    "from langchain.prompts import ChatPromptTemplate\n",
    "from langchain.schema.runnable import RunnableMap\n",
    "\n",
    "template = \"\"\"\n",
    "너는 서울시 전동킥보드 주차구역 안내로봇이야. \n",
    "상세위치를 알려주면서 가장 가까운 지하철역까지 안내해줘야해\n",
    "Answer the question as based only on the following context:\n",
    "{context}\n",
    "\n",
    "Question: {question}\n",
    "\"\"\"\n",
    "\n",
    "prompt = ChatPromptTemplate.from_template(template)"
   ]
  },
  {
   "cell_type": "code",
   "execution_count": 52,
   "metadata": {},
   "outputs": [],
   "source": [
    "retriever = db.as_retriever(search_type=\"similarity\", search_kwargs={'k':10, 'fetch_k': 100})"
   ]
  },
  {
   "cell_type": "code",
   "execution_count": 53,
   "metadata": {},
   "outputs": [],
   "source": [
    "from langchain.schema.runnable import RunnableMap\n",
    "chain = RunnableMap({\n",
    "    \"context\": lambda x: retriever.get_relevant_documents(x['question']),\n",
    "    \"question\": lambda x: x['question']\n",
    "}) | prompt | llm"
   ]
  },
  {
   "cell_type": "code",
   "execution_count": 54,
   "metadata": {},
   "outputs": [
    {
     "name": "stderr",
     "output_type": "stream",
     "text": [
      "C:\\Users\\AISW-203-102\\AppData\\Local\\Temp\\ipykernel_34772\\121337404.py:3: LangChainDeprecationWarning: The method `BaseRetriever.get_relevant_documents` was deprecated in langchain-core 0.1.46 and will be removed in 1.0. Use :meth:`~invoke` instead.\n",
      "  \"context\": lambda x: retriever.get_relevant_documents(x['question']),\n"
     ]
    },
    {
     "data": {
      "text/markdown": [
       "종로구에서 전동킥보드를 주차할 수 있는 곳은 다음과 같습니다. \n",
       "\n",
       "* **대학로 마로니에공원 앞** (동승동 1-24) -  가까운 지하철역: **혜화역**\n",
       "* **연악사 맞은편** (와룡동 75-4) - 가까운 지하철역: **안국역**\n",
       "* **홍익대학교 대학로 맞은편** (연건동 178-3) - 가까운 지하철역: **혜화역**\n",
       "* **청와대 춘추문 맞은편 인근** (팔판동 115-63) - 가까운 지하철역: **경복궁역**\n",
       "* **KT광화문 혜화지사 앞** (연건동 218-1) - 가까운 지하철역: **혜화역**\n",
       "\n",
       "\n",
       "어떤 곳이 가장 편리한지는 주차 위치와 지하철 이용 계획에 따라 달라질 수 있습니다.  \n"
      ],
      "text/plain": [
       "<IPython.core.display.Markdown object>"
      ]
     },
     "execution_count": 54,
     "metadata": {},
     "output_type": "execute_result"
    }
   ],
   "source": [
    "from IPython.display import Markdown\n",
    "Markdown(chain.invoke({'question': \"종로구 킥보드 어디에 주차하면 되는지 알려줘\"}).content)"
   ]
  }
 ],
 "metadata": {
  "kernelspec": {
   "display_name": "myenv",
   "language": "python",
   "name": "python3"
  },
  "language_info": {
   "codemirror_mode": {
    "name": "ipython",
    "version": 3
   },
   "file_extension": ".py",
   "mimetype": "text/x-python",
   "name": "python",
   "nbconvert_exporter": "python",
   "pygments_lexer": "ipython3",
   "version": "3.10.11"
  }
 },
 "nbformat": 4,
 "nbformat_minor": 2
}

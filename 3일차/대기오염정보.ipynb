{
 "cells": [
  {
   "cell_type": "markdown",
   "metadata": {},
   "source": [
    "+VNWs9eRHtfVOom9x6qojoca7bnMJO1fkfkbCGdwwZ/ARyiqjGkPgk0QEy6kk1AmQsqeOJskC65lg0E4fA0cjA=="
   ]
  },
  {
   "cell_type": "code",
   "execution_count": 1,
   "metadata": {},
   "outputs": [],
   "source": [
    "key = '+VNWs9eRHtfVOom9x6qojoca7bnMJO1fkfkbCGdwwZ/ARyiqjGkPgk0QEy6kk1AmQsqeOJskC65lg0E4fA0cjA=='"
   ]
  },
  {
   "cell_type": "code",
   "execution_count": 2,
   "metadata": {},
   "outputs": [
    {
     "name": "stdout",
     "output_type": "stream",
     "text": [
      "b'{\"response\":{\"body\":{\"totalCount\":40,\"items\":[{\"so2Grade\":\"1\",\"coFlag\":null,\"khaiValue\":\"92\",\"so2Value\":\"0.003\",\"coValue\":\"0.4\",\"pm25Flag\":null,\"pm10Flag\":null,\"o3Grade\":\"2\",\"pm10Value\":\"27\",\"khaiGrade\":\"2\",\"pm25Value\":\"19\",\"sidoName\":\"\\xec\\x84\\x9c\\xec\\x9a\\xb8\",\"no2Flag\":null,\"no2Grade\":\"1\",\"o3Flag\":null,\"pm25Grade\":\"1\",\"so2Flag\":null,\"dataTime\":\"2024-09-26 15:00\",\"coGrade\":\"1\",\"no2Value\":\"0.017\",\"stationName\":\"\\xea\\xb0\\x95\\xeb\\x82\\xa8\\xea\\xb5\\xac\",\"pm10Grade\":\"1\",\"o3Value\":\"0.080\"},{\"so2Grade\":\"1\",\"coFlag\":null,\"khaiValue\":\"92\",\"so2Value\":\"0.003\",\"coValue\":\"0.3\",\"pm25Flag\":null,\"pm10Flag\":null,\"o3Grade\":\"2\",\"pm10Value\":\"33\",\"khaiGrade\":\"2\",\"pm25Value\":\"17\",\"sidoName\":\"\\xec\\x84\\x9c\\xec\\x9a\\xb8\",\"no2Flag\":null,\"no2Grade\":\"1\",\"o3Flag\":null,\"pm25Grade\":\"1\",\"so2Flag\":null,\"dataTime\":\"2024-09-26 15:00\",\"coGrade\":\"1\",\"no2Value\":\"0.015\",\"stationName\":\"\\xec\\x84\\x9c\\xec\\xb4\\x88\\xea\\xb5\\xac\",\"pm10Grade\":\"1\",\"o3Value\":\"0.081\"},{\"so2Grade\":\"1\",\"coFlag\":null,\"khaiValue\":\"81\",\"so2Value\":\"0.003\",\"coValue\":\"0.6\",\"pm25Flag\":null,\"pm10Flag\":null,\"o3Grade\":\"2\",\"pm10Value\":\"27\",\"khaiGrade\":\"2\",\"pm25Value\":\"21\",\"sidoName\":\"\\xec\\x84\\x9c\\xec\\x9a\\xb8\",\"no2Flag\":null,\"no2Grade\":\"1\",\"o3Flag\":null,\"pm25Grade\":\"2\",\"so2Flag\":null,\"dataTime\":\"2024-09-26 15:00\",\"coGrade\":\"1\",\"no2Value\":\"0.020\",\"stationName\":\"\\xeb\\x8f\\x84\\xec\\x82\\xb0\\xeb\\x8c\\x80\\xeb\\xa1\\x9c\",\"pm10Grade\":\"1\",\"o3Value\":\"0.066\"},{\"so2Grade\":\"1\",\"coFlag\":null,\"khaiValue\":\"67\",\"so2Value\":\"0.002\",\"coValue\":\"0.6\",\"pm25Flag\":null,\"pm10Flag\":null,\"o3Grade\":\"2\",\"pm10Value\":\"32\",\"khaiGrade\":\"2\",\"pm25Value\":\"17\",\"sidoName\":\"\\xec\\x84\\x9c\\xec\\x9a\\xb8\",\"no2Flag\":null,\"no2Grade\":\"2\",\"o3Flag\":null,\"pm25Grade\":\"1\",\"so2Flag\":null,\"dataTime\":\"2024-09-26 15:00\",\"coGrade\":\"1\",\"no2Value\":\"0.039\",\"stationName\":\"\\xea\\xb0\\x95\\xeb\\x82\\xa8\\xeb\\x8c\\x80\\xeb\\xa1\\x9c\",\"pm10Grade\":\"1\",\"o3Value\":\"0.050\"},{\"so2Grade\":\"1\",\"coFlag\":null,\"khaiValue\":\"88\",\"so2Value\":\"0.003\",\"coValue\":\"0.4\",\"pm25Flag\":null,\"pm10Flag\":null,\"o3Grade\":\"2\",\"pm10Value\":\"31\",\"khaiGrade\":\"2\",\"pm25Value\":\"12\",\"sidoName\":\"\\xec\\x84\\x9c\\xec\\x9a\\xb8\",\"no2Flag\":null,\"no2Grade\":\"1\",\"o3Flag\":null,\"pm25Grade\":\"1\",\"so2Flag\":null,\"dataTime\":\"2024-09-26 15:00\",\"coGrade\":\"1\",\"no2Value\":\"0.019\",\"stationName\":\"\\xec\\x86\\xa1\\xed\\x8c\\x8c\\xea\\xb5\\xac\",\"pm10Grade\":\"1\",\"o3Value\":\"0.075\"},{\"so2Grade\":\"1\",\"coFlag\":null,\"khaiValue\":\"93\",\"so2Value\":\"0.003\",\"coValue\":\"0.5\",\"pm25Flag\":null,\"pm10Flag\":null,\"o3Grade\":\"2\",\"pm10Value\":\"30\",\"khaiGrade\":\"2\",\"pm25Value\":\"22\",\"sidoName\":\"\\xec\\x84\\x9c\\xec\\x9a\\xb8\",\"no2Flag\":null,\"no2Grade\":\"1\",\"o3Flag\":null,\"pm25Grade\":\"1\",\"so2Flag\":null,\"dataTime\":\"2024-09-26 15:00\",\"coGrade\":\"1\",\"no2Value\":\"0.014\",\"stationName\":\"\\xea\\xb0\\x95\\xeb\\x8f\\x99\\xea\\xb5\\xac\",\"pm10Grade\":\"1\",\"o3Value\":\"0.081\"},{\"so2Grade\":\"1\",\"coFlag\":null,\"khaiValue\":\"80\",\"so2Value\":\"0.002\",\"coValue\":\"0.5\",\"pm25Flag\":null,\"pm10Flag\":null,\"o3Grade\":\"2\",\"pm10Value\":\"28\",\"khaiGrade\":\"2\",\"pm25Value\":\"16\",\"sidoName\":\"\\xec\\x84\\x9c\\xec\\x9a\\xb8\",\"no2Flag\":null,\"no2Grade\":\"2\",\"o3Flag\":null,\"pm25Grade\":\"1\",\"so2Flag\":null,\"dataTime\":\"2024-09-26 15:00\",\"coGrade\":\"1\",\"no2Value\":\"0.037\",\"stationName\":\"\\xec\\xb2\\x9c\\xed\\x98\\xb8\\xeb\\x8c\\x80\\xeb\\xa1\\x9c\",\"pm10Grade\":\"1\",\"o3Value\":\"0.065\"},{\"so2Grade\":\"1\",\"coFlag\":null,\"khaiValue\":\"90\",\"so2Value\":\"0.003\",\"coValue\":\"0.4\",\"pm25Flag\":null,\"pm10Flag\":null,\"o3Grade\":\"2\",\"pm10Value\":\"22\",\"khaiGrade\":\"2\",\"pm25Value\":\"18\",\"sidoName\":\"\\xec\\x84\\x9c\\xec\\x9a\\xb8\",\"no2Flag\":null,\"no2Grade\":\"1\",\"o3Flag\":null,\"pm25Grade\":\"1\",\"so2Flag\":null,\"dataTime\":\"2024-09-26 15:00\",\"coGrade\":\"1\",\"no2Value\":\"0.020\",\"stationName\":\"\\xea\\xb8\\x88\\xec\\xb2\\x9c\\xea\\xb5\\xac\",\"pm10Grade\":\"1\",\"o3Value\":\"0.077\"},{\"so2Grade\":\"1\",\"coFlag\":null,\"khaiValue\":\"79\",\"so2Value\":\"0.003\",\"coValue\":\"0.4\",\"pm25Flag\":null,\"pm10Flag\":null,\"o3Grade\":\"2\",\"pm10Value\":\"30\",\"khaiGrade\":\"2\",\"pm25Value\":\"19\",\"sidoName\":\"\\xec\\x84\\x9c\\xec\\x9a\\xb8\",\"no2Flag\":null,\"no2Grade\":\"1\",\"o3Flag\":null,\"pm25Grade\":\"2\",\"so2Flag\":null,\"dataTime\":\"2024-09-26 15:00\",\"coGrade\":\"1\",\"no2Value\":\"0.024\",\"stationName\":\"\\xec\\x8b\\x9c\\xed\\x9d\\xa5\\xeb\\x8c\\x80\\xeb\\xa1\\x9c\",\"pm10Grade\":\"1\",\"o3Value\":\"0.065\"},{\"so2Grade\":\"1\",\"coFlag\":null,\"khaiValue\":\"92\",\"so2Value\":\"0.002\",\"coValue\":\"0.3\",\"pm25Flag\":null,\"pm10Flag\":null,\"o3Grade\":\"2\",\"pm10Value\":\"16\",\"khaiGrade\":\"2\",\"pm25Value\":\"8\",\"sidoName\":\"\\xec\\x84\\x9c\\xec\\x9a\\xb8\",\"no2Flag\":null,\"no2Grade\":\"1\",\"o3Flag\":null,\"pm25Grade\":\"1\",\"so2Flag\":null,\"dataTime\":\"2024-09-26 15:00\",\"coGrade\":\"1\",\"no2Value\":\"0.006\",\"stationName\":\"\\xea\\xb0\\x95\\xeb\\xb6\\x81\\xea\\xb5\\xac\",\"pm10Grade\":\"1\",\"o3Value\":\"0.080\"},{\"so2Grade\":\"1\",\"coFlag\":null,\"khaiValue\":\"82\",\"so2Value\":\"0.003\",\"coValue\":\"0.3\",\"pm25Flag\":null,\"pm10Flag\":null,\"o3Grade\":\"2\",\"pm10Value\":\"19\",\"khaiGrade\":\"2\",\"pm25Value\":\"15\",\"sidoName\":\"\\xec\\x84\\x9c\\xec\\x9a\\xb8\",\"no2Flag\":null,\"no2Grade\":\"1\",\"o3Flag\":null,\"pm25Grade\":\"1\",\"so2Flag\":null,\"dataTime\":\"2024-09-26 15:00\",\"coGrade\":\"1\",\"no2Value\":\"0.013\",\"stationName\":\"\\xec\\x96\\x91\\xec\\xb2\\x9c\\xea\\xb5\\xac\",\"pm10Grade\":\"1\",\"o3Value\":\"0.068\"},{\"so2Grade\":\"1\",\"coFlag\":null,\"khaiValue\":\"84\",\"so2Value\":\"0.002\",\"coValue\":\"0.3\",\"pm25Flag\":null,\"pm10Flag\":null,\"o3Grade\":\"2\",\"pm10Value\":\"23\",\"khaiGrade\":\"2\",\"pm25Value\":\"11\",\"sidoName\":\"\\xec\\x84\\x9c\\xec\\x9a\\xb8\",\"no2Flag\":null,\"no2Grade\":\"1\",\"o3Flag\":null,\"pm25Grade\":\"1\",\"so2Flag\":null,\"dataTime\":\"2024-09-26 15:00\",\"coGrade\":\"1\",\"no2Value\":\"0.008\",\"stationName\":\"\\xeb\\x85\\xb8\\xec\\x9b\\x90\\xea\\xb5\\xac\",\"pm10Grade\":\"1\",\"o3Value\":\"0.071\"},{\"so2Grade\":null,\"coFlag\":\"\\xed\\x86\\xb5\\xec\\x8b\\xa0\\xec\\x9e\\xa5\\xec\\x95\\xa0\",\"khaiValue\":\"-\",\"so2Value\":\"-\",\"coValue\":\"-\",\"pm25Flag\":\"\\xed\\x86\\xb5\\xec\\x8b\\xa0\\xec\\x9e\\xa5\\xec\\x95\\xa0\",\"pm10Flag\":\"\\xed\\x86\\xb5\\xec\\x8b\\xa0\\xec\\x9e\\xa5\\xec\\x95\\xa0\",\"o3Grade\":null,\"pm10Value\":\"-\",\"khaiGrade\":null,\"pm25Value\":\"-\",\"sidoName\":\"\\xec\\x84\\x9c\\xec\\x9a\\xb8\",\"no2Flag\":\"\\xed\\x86\\xb5\\xec\\x8b\\xa0\\xec\\x9e\\xa5\\xec\\x95\\xa0\",\"no2Grade\":null,\"o3Flag\":\"\\xed\\x86\\xb5\\xec\\x8b\\xa0\\xec\\x9e\\xa5\\xec\\x95\\xa0\",\"pm25Grade\":null,\"so2Flag\":\"\\xed\\x86\\xb5\\xec\\x8b\\xa0\\xec\\x9e\\xa5\\xec\\x95\\xa0\",\"dataTime\":\"2024-09-26 15:00\",\"coGrade\":null,\"no2Value\":\"-\",\"stationName\":\"\\xed\\x99\\x94\\xeb\\x9e\\x91\\xeb\\xa1\\x9c\",\"pm10Grade\":null,\"o3Value\":\"-\"},{\"so2Grade\":\"1\",\"coFlag\":null,\"khaiValue\":\"92\",\"so2Value\":\"0.003\",\"coValue\":\"0.3\",\"pm25Flag\":null,\"pm10Flag\":null,\"o3Grade\":\"2\",\"pm10Value\":\"23\",\"khaiGrade\":\"2\",\"pm25Value\":\"18\",\"sidoName\":\"\\xec\\x84\\x9c\\xec\\x9a\\xb8\",\"no2Flag\":null,\"no2Grade\":\"1\",\"o3Flag\":null,\"pm25Grade\":\"1\",\"so2Flag\":null,\"dataTime\":\"2024-09-26 15:00\",\"coGrade\":\"1\",\"no2Value\":\"0.009\",\"stationName\":\"\\xec\\xa4\\x91\\xea\\xb5\\xac\",\"pm10Grade\":\"1\",\"o3Value\":\"0.081\"},{\"so2Grade\":\"1\",\"coFlag\":null,\"khaiValue\":\"93\",\"so2Value\":\"0.003\",\"coValue\":\"0.5\",\"pm25Flag\":null,\"pm10Flag\":null,\"o3Grade\":\"2\",\"pm10Value\":\"41\",\"khaiGrade\":\"2\",\"pm25Value\":\"18\",\"sidoName\":\"\\xec\\x84\\x9c\\xec\\x9a\\xb8\",\"no2Flag\":null,\"no2Grade\":\"1\",\"o3Flag\":null,\"pm25Grade\":\"2\",\"so2Flag\":null,\"dataTime\":\"2024-09-26 15:00\",\"coGrade\":\"1\",\"no2Value\":\"0.026\",\"stationName\":\"\\xed\\x95\\x9c\\xea\\xb0\\x95\\xeb\\x8c\\x80\\xeb\\xa1\\x9c\",\"pm10Grade\":\"2\",\"o3Value\":\"0.082\"},{\"so2Grade\":\"1\",\"coFlag\":null,\"khaiValue\":\"94\",\"so2Value\":\"0.003\",\"coValue\":\"0.4\",\"pm25Flag\":null,\"pm10Flag\":null,\"o3Grade\":\"2\",\"pm10Value\":\"24\",\"khaiGrade\":\"2\",\"pm25Value\":\"16\",\"sidoName\":\"\\xec\\x84\\x9c\\xec\\x9a\\xb8\",\"no2Flag\":null,\"no2Grade\":\"1\",\"o3Flag\":null,\"pm25Grade\":\"1\",\"so2Flag\":null,\"dataTime\":\"2024-09-26 15:00\",\"coGrade\":\"1\",\"no2Value\":\"0.016\",\"stationName\":\"\\xec\\xa2\\x85\\xeb\\xa1\\x9c\\xea\\xb5\\xac\",\"pm10Grade\":\"1\",\"o3Value\":\"0.083\"},{\"so2Grade\":\"1\",\"coFlag\":null,\"khaiValue\":\"-\",\"so2Value\":\"0.002\",\"coValue\":\"0.5\",\"pm25Flag\":null,\"pm10Flag\":null,\"o3Grade\":\"2\",\"pm10Value\":\"30\",\"khaiGrade\":null,\"pm25Value\":\"19\",\"sidoName\":\"\\xec\\x84\\x9c\\xec\\x9a\\xb8\",\"no2Flag\":null,\"no2Grade\":\"1\",\"o3Flag\":null,\"pm25Grade\":null,\"so2Flag\":null,\"dataTime\":\"2024-09-26 15:00\",\"coGrade\":\"1\",\"no2Value\":\"0.023\",\"stationName\":\"\\xec\\xb2\\xad\\xea\\xb3\\x84\\xec\\xb2\\x9c\\xeb\\xa1\\x9c\",\"pm10Grade\":null,\"o3Value\":\"0.068\"},{\"so2Grade\":\"1\",\"coFlag\":null,\"khaiValue\":\"81\",\"so2Value\":\"0.003\",\"coValue\":\"0.5\",\"pm25Flag\":null,\"pm10Flag\":null,\"o3Grade\":\"2\",\"pm10Value\":\"32\",\"khaiGrade\":\"2\",\"pm25Value\":\"16\",\"sidoName\":\"\\xec\\x84\\x9c\\xec\\x9a\\xb8\",\"no2Flag\":null,\"no2Grade\":\"1\",\"o3Flag\":null,\"pm25Grade\":\"1\",\"so2Flag\":null,\"dataTime\":\"2024-09-26 15:00\",\"coGrade\":\"1\",\"no2Value\":\"0.024\",\"stationName\":\"\\xec\\xa2\\x85\\xeb\\xa1\\x9c\",\"pm10Grade\":\"1\",\"o3Value\":\"0.067\"},{\"so2Grade\":\"1\",\"coFlag\":null,\"khaiValue\":\"85\",\"so2Value\":\"0.003\",\"coValue\":\"0.4\",\"pm25Flag\":null,\"pm10Flag\":null,\"o3Grade\":\"2\",\"pm10Value\":\"28\",\"khaiGrade\":\"2\",\"pm25Value\":\"18\",\"sidoName\":\"\\xec\\x84\\x9c\\xec\\x9a\\xb8\",\"no2Flag\":null,\"no2Grade\":\"1\",\"o3Flag\":null,\"pm25Grade\":\"2\",\"so2Flag\":null,\"dataTime\":\"2024-09-26 15:00\",\"coGrade\":\"1\",\"no2Value\":\"0.024\",\"stationName\":\"\\xec\\x9a\\xa9\\xec\\x82\\xb0\\xea\\xb5\\xac\",\"pm10Grade\":\"1\",\"o3Value\":\"0.072\"},{\"so2Grade\":\"1\",\"coFlag\":null,\"khaiValue\":\"115\",\"so2Value\":\"0.003\",\"coValue\":\"0.7\",\"pm25Flag\":null,\"pm10Flag\":null,\"o3Grade\":\"3\",\"pm10Value\":\"27\",\"khaiGrade\":\"3\",\"pm25Value\":\"20\",\"sidoName\":\"\\xec\\x84\\x9c\\xec\\x9a\\xb8\",\"no2Flag\":null,\"no2Grade\":\"1\",\"o3Flag\":null,\"pm25Grade\":\"1\",\"so2Flag\":null,\"dataTime\":\"2024-09-26 15:00\",\"coGrade\":\"1\",\"no2Value\":\"0.017\",\"stationName\":\"\\xea\\xb4\\x91\\xec\\xa7\\x84\\xea\\xb5\\xac\",\"pm10Grade\":\"1\",\"o3Value\":\"0.096\"},{\"so2Grade\":\"1\",\"coFlag\":null,\"khaiValue\":\"93\",\"so2Value\":\"0.003\",\"coValue\":\"0.4\",\"pm25Flag\":null,\"pm10Flag\":null,\"o3Grade\":\"2\",\"pm10Value\":\"30\",\"khaiGrade\":\"2\",\"pm25Value\":\"17\",\"sidoName\":\"\\xec\\x84\\x9c\\xec\\x9a\\xb8\",\"no2Flag\":null,\"no2Grade\":\"1\",\"o3Flag\":null,\"pm25Grade\":\"1\",\"so2Flag\":null,\"dataTime\":\"2024-09-26 15:00\",\"coGrade\":\"1\",\"no2Value\":\"0.021\",\"stationName\":\"\\xec\\x84\\xb1\\xeb\\x8f\\x99\\xea\\xb5\\xac\",\"pm10Grade\":\"1\",\"o3Value\":\"0.081\"},{\"so2Grade\":null,\"coFlag\":\"\\xed\\x86\\xb5\\xec\\x8b\\xa0\\xec\\x9e\\xa5\\xec\\x95\\xa0\",\"khaiValue\":\"-\",\"so2Value\":\"-\",\"coValue\":\"-\",\"pm25Flag\":\"\\xed\\x86\\xb5\\xec\\x8b\\xa0\\xec\\x9e\\xa5\\xec\\x95\\xa0\",\"pm10Flag\":null,\"o3Grade\":null,\"pm10Value\":\"33\",\"khaiGrade\":null,\"pm25Value\":\"-\",\"sidoName\":\"\\xec\\x84\\x9c\\xec\\x9a\\xb8\",\"no2Flag\":\"\\xed\\x86\\xb5\\xec\\x8b\\xa0\\xec\\x9e\\xa5\\xec\\x95\\xa0\",\"no2Grade\":null,\"o3Flag\":\"\\xed\\x86\\xb5\\xec\\x8b\\xa0\\xec\\x9e\\xa5\\xec\\x95\\xa0\",\"pm25Grade\":null,\"so2Flag\":\"\\xed\\x86\\xb5\\xec\\x8b\\xa0\\xec\\x9e\\xa5\\xec\\x95\\xa0\",\"dataTime\":\"2024-09-26 15:00\",\"coGrade\":null,\"no2Value\":\"-\",\"stationName\":\"\\xea\\xb0\\x95\\xeb\\xb3\\x80\\xeb\\xb6\\x81\\xeb\\xa1\\x9c\",\"pm10Grade\":null,\"o3Value\":\"-\"},{\"so2Grade\":\"1\",\"coFlag\":null,\"khaiValue\":\"91\",\"so2Value\":\"0.002\",\"coValue\":\"0.3\",\"pm25Flag\":null,\"pm10Flag\":null,\"o3Grade\":\"2\",\"pm10Value\":\"26\",\"khaiGrade\":\"2\",\"pm25Value\":\"16\",\"sidoName\":\"\\xec\\x84\\x9c\\xec\\x9a\\xb8\",\"no2Flag\":null,\"no2Grade\":\"1\",\"o3Flag\":null,\"pm25Grade\":\"1\",\"so2Flag\":null,\"dataTime\":\"2024-09-26 15:00\",\"coGrade\":\"1\",\"no2Value\":\"0.014\",\"stationName\":\"\\xec\\xa4\\x91\\xeb\\x9e\\x91\\xea\\xb5\\xac\",\"pm10Grade\":\"1\",\"o3Value\":\"0.079\"},{\"so2Grade\":null,\"coFlag\":\"\\xed\\x86\\xb5\\xec\\x8b\\xa0\\xec\\x9e\\xa5\\xec\\x95\\xa0\",\"khaiValue\":\"-\",\"so2Value\":\"-\",\"coValue\":\"-\",\"pm25Flag\":\"\\xed\\x86\\xb5\\xec\\x8b\\xa0\\xec\\x9e\\xa5\\xec\\x95\\xa0\",\"pm10Flag\":\"\\xed\\x86\\xb5\\xec\\x8b\\xa0\\xec\\x9e\\xa5\\xec\\x95\\xa0\",\"o3Grade\":null,\"pm10Value\":\"-\",\"khaiGrade\":null,\"pm25Value\":\"-\",\"sidoName\":\"\\xec\\x84\\x9c\\xec\\x9a\\xb8\",\"no2Flag\":\"\\xed\\x86\\xb5\\xec\\x8b\\xa0\\xec\\x9e\\xa5\\xec\\x95\\xa0\",\"no2Grade\":null,\"o3Flag\":\"\\xed\\x86\\xb5\\xec\\x8b\\xa0\\xec\\x9e\\xa5\\xec\\x95\\xa0\",\"pm25Grade\":null,\"so2Flag\":\"\\xed\\x86\\xb5\\xec\\x8b\\xa0\\xec\\x9e\\xa5\\xec\\x95\\xa0\",\"dataTime\":\"2024-09-26 15:00\",\"coGrade\":null,\"no2Value\":\"-\",\"stationName\":\"\\xeb\\x8f\\x99\\xeb\\x8c\\x80\\xeb\\xac\\xb8\\xea\\xb5\\xac\",\"pm10Grade\":null,\"o3Value\":\"-\"},{\"so2Grade\":\"1\",\"coFlag\":null,\"khaiValue\":\"-\",\"so2Value\":\"0.003\",\"coValue\":\"0.5\",\"pm25Flag\":null,\"pm10Flag\":null,\"o3Grade\":\"2\",\"pm10Value\":\"30\",\"khaiGrade\":null,\"pm25Value\":\"15\",\"sidoName\":\"\\xec\\x84\\x9c\\xec\\x9a\\xb8\",\"no2Flag\":null,\"no2Grade\":\"2\",\"o3Flag\":null,\"pm25Grade\":null,\"so2Flag\":null,\"dataTime\":\"2024-09-26 15:00\",\"coGrade\":\"1\",\"no2Value\":\"0.030\",\"stationName\":\"\\xed\\x99\\x8d\\xeb\\xa6\\x89\\xeb\\xa1\\x9c\",\"pm10Grade\":null,\"o3Value\":\"0.066\"},{\"so2Grade\":\"1\",\"coFlag\":null,\"khaiValue\":\"87\",\"so2Value\":\"0.003\",\"coValue\":\"0.3\",\"pm25Flag\":null,\"pm10Flag\":null,\"o3Grade\":\"2\",\"pm10Value\":\"26\",\"khaiGrade\":\"2\",\"pm25Value\":\"13\",\"sidoName\":\"\\xec\\x84\\x9c\\xec\\x9a\\xb8\",\"no2Flag\":null,\"no2Grade\":\"1\",\"o3Flag\":null,\"pm25Grade\":\"1\",\"so2Flag\":null,\"dataTime\":\"2024-09-26 15:00\",\"coGrade\":\"1\",\"no2Value\":\"0.014\",\"stationName\":\"\\xec\\x84\\xb1\\xeb\\xb6\\x81\\xea\\xb5\\xac\",\"pm10Grade\":\"1\",\"o3Value\":\"0.074\"},{\"so2Grade\":\"1\",\"coFlag\":null,\"khaiValue\":\"84\",\"so2Value\":\"0.003\",\"coValue\":\"0.5\",\"pm25Flag\":null,\"pm10Flag\":null,\"o3Grade\":\"2\",\"pm10Value\":\"32\",\"khaiGrade\":\"2\",\"pm25Value\":\"17\",\"sidoName\":\"\\xec\\x84\\x9c\\xec\\x9a\\xb8\",\"no2Flag\":null,\"no2Grade\":\"2\",\"o3Flag\":null,\"pm25Grade\":\"1\",\"so2Flag\":null,\"dataTime\":\"2024-09-26 15:00\",\"coGrade\":\"1\",\"no2Value\":\"0.036\",\"stationName\":\"\\xec\\xa0\\x95\\xeb\\xa6\\x89\\xeb\\xa1\\x9c\",\"pm10Grade\":\"1\",\"o3Value\":\"0.071\"},{\"so2Grade\":\"1\",\"coFlag\":null,\"khaiValue\":\"92\",\"so2Value\":\"0.002\",\"coValue\":\"0.3\",\"pm25Flag\":null,\"pm10Flag\":null,\"o3Grade\":\"2\",\"pm10Value\":\"14\",\"khaiGrade\":\"2\",\"pm25Value\":\"13\",\"sidoName\":\"\\xec\\x84\\x9c\\xec\\x9a\\xb8\",\"no2Flag\":null,\"no2Grade\":\"1\",\"o3Flag\":null,\"pm25Grade\":\"1\",\"so2Flag\":null,\"dataTime\":\"2024-09-26 15:00\",\"coGrade\":\"1\",\"no2Value\":\"0.008\",\"stationName\":\"\\xeb\\x8f\\x84\\xeb\\xb4\\x89\\xea\\xb5\\xac\",\"pm10Grade\":\"1\",\"o3Value\":\"0.081\"},{\"so2Grade\":\"1\",\"coFlag\":null,\"khaiValue\":\"73\",\"so2Value\":\"0.003\",\"coValue\":\"0.3\",\"pm25Flag\":null,\"pm10Flag\":null,\"o3Grade\":\"2\",\"pm10Value\":\"22\",\"khaiGrade\":\"2\",\"pm25Value\":\"18\",\"sidoName\":\"\\xec\\x84\\x9c\\xec\\x9a\\xb8\",\"no2Flag\":null,\"no2Grade\":\"1\",\"o3Flag\":null,\"pm25Grade\":\"1\",\"so2Flag\":null,\"dataTime\":\"2024-09-26 15:00\",\"coGrade\":\"1\",\"no2Value\":\"0.009\",\"stationName\":\"\\xec\\x9d\\x80\\xed\\x8f\\x89\\xea\\xb5\\xac\",\"pm10Grade\":\"1\",\"o3Value\":\"0.057\"},{\"so2Grade\":\"1\",\"coFlag\":null,\"khaiValue\":\"95\",\"so2Value\":\"0.003\",\"coValue\":\"0.3\",\"pm25Flag\":null,\"pm10Flag\":null,\"o3Grade\":\"2\",\"pm10Value\":\"19\",\"khaiGrade\":\"2\",\"pm25Value\":\"12\",\"sidoName\":\"\\xec\\x84\\x9c\\xec\\x9a\\xb8\",\"no2Flag\":null,\"no2Grade\":\"1\",\"o3Flag\":null,\"pm25Grade\":\"1\",\"so2Flag\":null,\"dataTime\":\"2024-09-26 15:00\",\"coGrade\":\"1\",\"no2Value\":\"0.011\",\"stationName\":\"\\xec\\x84\\x9c\\xeb\\x8c\\x80\\xeb\\xac\\xb8\\xea\\xb5\\xac\",\"pm10Grade\":\"1\",\"o3Value\":\"0.083\"},{\"so2Grade\":\"1\",\"coFlag\":null,\"khaiValue\":\"89\",\"so2Value\":\"0.003\",\"coValue\":\"0.3\",\"pm25Flag\":null,\"pm10Flag\":null,\"o3Grade\":\"2\",\"pm10Value\":\"17\",\"khaiGrade\":\"2\",\"pm25Value\":\"15\",\"sidoName\":\"\\xec\\x84\\x9c\\xec\\x9a\\xb8\",\"no2Flag\":null,\"no2Grade\":\"1\",\"o3Flag\":null,\"pm25Grade\":\"1\",\"so2Flag\":null,\"dataTime\":\"2024-09-26 15:00\",\"coGrade\":\"1\",\"no2Value\":\"0.014\",\"stationName\":\"\\xeb\\xa7\\x88\\xed\\x8f\\xac\\xea\\xb5\\xac\",\"pm10Grade\":\"1\",\"o3Value\":\"0.077\"},{\"so2Grade\":\"1\",\"coFlag\":null,\"khaiValue\":\"66\",\"so2Value\":\"0.003\",\"coValue\":\"0.6\",\"pm25Flag\":null,\"pm10Flag\":null,\"o3Grade\":\"2\",\"pm10Value\":\"28\",\"khaiGrade\":\"2\",\"pm25Value\":\"22\",\"sidoName\":\"\\xec\\x84\\x9c\\xec\\x9a\\xb8\",\"no2Flag\":null,\"no2Grade\":\"2\",\"o3Flag\":null,\"pm25Grade\":\"1\",\"so2Flag\":null,\"dataTime\":\"2024-09-26 15:00\",\"coGrade\":\"1\",\"no2Value\":\"0.038\",\"stationName\":\"\\xec\\x8b\\xa0\\xec\\xb4\\x8c\\xeb\\xa1\\x9c\",\"pm10Grade\":\"1\",\"o3Value\":\"0.048\"},{\"so2Grade\":\"1\",\"coFlag\":null,\"khaiValue\":\"86\",\"so2Value\":\"0.003\",\"coValue\":\"0.3\",\"pm25Flag\":null,\"pm10Flag\":null,\"o3Grade\":\"2\",\"pm10Value\":\"21\",\"khaiGrade\":\"2\",\"pm25Value\":\"17\",\"sidoName\":\"\\xec\\x84\\x9c\\xec\\x9a\\xb8\",\"no2Flag\":null,\"no2Grade\":\"1\",\"o3Flag\":null,\"pm25Grade\":\"1\",\"so2Flag\":null,\"dataTime\":\"2024-09-26 15:00\",\"coGrade\":\"1\",\"no2Value\":\"0.012\",\"stationName\":\"\\xea\\xb0\\x95\\xec\\x84\\x9c\\xea\\xb5\\xac\",\"pm10Grade\":\"1\",\"o3Value\":\"0.073\"},{\"so2Grade\":null,\"coFlag\":\"\\xed\\x86\\xb5\\xec\\x8b\\xa0\\xec\\x9e\\xa5\\xec\\x95\\xa0\",\"khaiValue\":\"-\",\"so2Value\":\"-\",\"coValue\":\"-\",\"pm25Flag\":\"\\xed\\x86\\xb5\\xec\\x8b\\xa0\\xec\\x9e\\xa5\\xec\\x95\\xa0\",\"pm10Flag\":\"\\xed\\x86\\xb5\\xec\\x8b\\xa0\\xec\\x9e\\xa5\\xec\\x95\\xa0\",\"o3Grade\":null,\"pm10Value\":\"-\",\"khaiGrade\":null,\"pm25Value\":\"-\",\"sidoName\":\"\\xec\\x84\\x9c\\xec\\x9a\\xb8\",\"no2Flag\":\"\\xed\\x86\\xb5\\xec\\x8b\\xa0\\xec\\x9e\\xa5\\xec\\x95\\xa0\",\"no2Grade\":null,\"o3Flag\":\"\\xed\\x86\\xb5\\xec\\x8b\\xa0\\xec\\x9e\\xa5\\xec\\x95\\xa0\",\"pm25Grade\":null,\"so2Flag\":\"\\xed\\x86\\xb5\\xec\\x8b\\xa0\\xec\\x9e\\xa5\\xec\\x95\\xa0\",\"dataTime\":\"2024-09-26 15:00\",\"coGrade\":null,\"no2Value\":\"-\",\"stationName\":\"\\xea\\xb3\\xb5\\xed\\x95\\xad\\xeb\\x8c\\x80\\xeb\\xa1\\x9c\",\"pm10Grade\":null,\"o3Value\":\"-\"},{\"so2Grade\":\"1\",\"coFlag\":null,\"khaiValue\":\"86\",\"so2Value\":\"0.003\",\"coValue\":\"0.4\",\"pm25Flag\":null,\"pm10Flag\":null,\"o3Grade\":\"2\",\"pm10Value\":\"22\",\"khaiGrade\":\"2\",\"pm25Value\":\"10\",\"sidoName\":\"\\xec\\x84\\x9c\\xec\\x9a\\xb8\",\"no2Flag\":null,\"no2Grade\":\"1\",\"o3Flag\":null,\"pm25Grade\":\"1\",\"so2Flag\":null,\"dataTime\":\"2024-09-26 15:00\",\"coGrade\":\"1\",\"no2Value\":\"0.010\",\"stationName\":\"\\xea\\xb5\\xac\\xeb\\xa1\\x9c\\xea\\xb5\\xac\",\"pm10Grade\":\"1\",\"o3Value\":\"0.073\"},{\"so2Grade\":\"1\",\"coFlag\":null,\"khaiValue\":\"90\",\"so2Value\":\"0.003\",\"coValue\":\"0.3\",\"pm25Flag\":null,\"pm10Flag\":null,\"o3Grade\":\"2\",\"pm10Value\":\"22\",\"khaiGrade\":\"2\",\"pm25Value\":\"18\",\"sidoName\":\"\\xec\\x84\\x9c\\xec\\x9a\\xb8\",\"no2Flag\":null,\"no2Grade\":\"1\",\"o3Flag\":null,\"pm25Grade\":\"1\",\"so2Flag\":null,\"dataTime\":\"2024-09-26 15:00\",\"coGrade\":\"1\",\"no2Value\":\"0.017\",\"stationName\":\"\\xec\\x98\\x81\\xeb\\x93\\xb1\\xed\\x8f\\xac\\xea\\xb5\\xac\",\"pm10Grade\":\"1\",\"o3Value\":\"0.078\"},{\"so2Grade\":\"1\",\"coFlag\":null,\"khaiValue\":\"75\",\"so2Value\":\"0.002\",\"coValue\":\"0.5\",\"pm25Flag\":null,\"pm10Flag\":null,\"o3Grade\":\"2\",\"pm10Value\":\"25\",\"khaiGrade\":\"2\",\"pm25Value\":\"16\",\"sidoName\":\"\\xec\\x84\\x9c\\xec\\x9a\\xb8\",\"no2Flag\":null,\"no2Grade\":\"2\",\"o3Flag\":null,\"pm25Grade\":\"1\",\"so2Flag\":null,\"dataTime\":\"2024-09-26 15:00\",\"coGrade\":\"1\",\"no2Value\":\"0.032\",\"stationName\":\"\\xec\\x98\\x81\\xeb\\x93\\xb1\\xed\\x8f\\xac\\xeb\\xa1\\x9c\",\"pm10Grade\":\"1\",\"o3Value\":\"0.059\"},{\"so2Grade\":\"1\",\"coFlag\":null,\"khaiValue\":\"96\",\"so2Value\":\"0.003\",\"coValue\":\"0.3\",\"pm25Flag\":null,\"pm10Flag\":null,\"o3Grade\":\"2\",\"pm10Value\":\"31\",\"khaiGrade\":\"2\",\"pm25Value\":\"19\",\"sidoName\":\"\\xec\\x84\\x9c\\xec\\x9a\\xb8\",\"no2Flag\":null,\"no2Grade\":\"1\",\"o3Flag\":null,\"pm25Grade\":\"1\",\"so2Flag\":null,\"dataTime\":\"2024-09-26 15:00\",\"coGrade\":\"1\",\"no2Value\":\"0.017\",\"stationName\":\"\\xeb\\x8f\\x99\\xec\\x9e\\x91\\xea\\xb5\\xac\",\"pm10Grade\":\"1\",\"o3Value\":\"0.085\"},{\"so2Grade\":\"1\",\"coFlag\":null,\"khaiValue\":\"83\",\"so2Value\":\"0.003\",\"coValue\":\"0.4\",\"pm25Flag\":null,\"pm10Flag\":null,\"o3Grade\":\"2\",\"pm10Value\":\"30\",\"khaiGrade\":\"2\",\"pm25Value\":\"24\",\"sidoName\":\"\\xec\\x84\\x9c\\xec\\x9a\\xb8\",\"no2Flag\":null,\"no2Grade\":\"2\",\"o3Flag\":null,\"pm25Grade\":\"2\",\"so2Flag\":null,\"dataTime\":\"2024-09-26 15:00\",\"coGrade\":\"1\",\"no2Value\":\"0.039\",\"stationName\":\"\\xeb\\x8f\\x99\\xec\\x9e\\x91\\xeb\\x8c\\x80\\xeb\\xa1\\x9c \\xec\\xa4\\x91\\xec\\x95\\x99\\xec\\xb0\\xa8\\xeb\\xa1\\x9c\",\"pm10Grade\":\"1\",\"o3Value\":\"0.069\"},{\"so2Grade\":\"1\",\"coFlag\":null,\"khaiValue\":\"89\",\"so2Value\":\"0.003\",\"coValue\":\"0.3\",\"pm25Flag\":null,\"pm10Flag\":null,\"o3Grade\":\"2\",\"pm10Value\":\"28\",\"khaiGrade\":\"2\",\"pm25Value\":\"15\",\"sidoName\":\"\\xec\\x84\\x9c\\xec\\x9a\\xb8\",\"no2Flag\":null,\"no2Grade\":\"1\",\"o3Flag\":null,\"pm25Grade\":\"1\",\"so2Flag\":null,\"dataTime\":\"2024-09-26 15:00\",\"coGrade\":\"1\",\"no2Value\":\"0.017\",\"stationName\":\"\\xea\\xb4\\x80\\xec\\x95\\x85\\xea\\xb5\\xac\",\"pm10Grade\":\"1\",\"o3Value\":\"0.076\"}],\"pageNo\":1,\"numOfRows\":100},\"header\":{\"resultMsg\":\"NORMAL_CODE\",\"resultCode\":\"00\"}}}'\n"
     ]
    }
   ],
   "source": [
    "# https://www.data.go.kr/data/15073855/openapi.do\n",
    "import requests\n",
    " \n",
    "url = 'http://apis.data.go.kr/B552584/ArpltnInforInqireSvc/getCtprvnRltmMesureDnsty'\n",
    "params ={'serviceKey' : \"+VNWs9eRHtfVOom9x6qojoca7bnMJO1fkfkbCGdwwZ/ARyiqjGkPgk0QEy6kk1AmQsqeOJskC65lg0E4fA0cjA==\", 'returnType' : 'json', 'numOfRows' : '100', 'pageNo' : '1', 'sidoName' : '서울', 'ver' : '1.0' }\n",
    " \n",
    "response = requests.get(url, params=params)\n",
    "print(response.content)"
   ]
  },
  {
   "cell_type": "code",
   "execution_count": null,
   "metadata": {},
   "outputs": [],
   "source": []
  },
  {
   "cell_type": "code",
   "execution_count": 3,
   "metadata": {},
   "outputs": [
    {
     "name": "stdout",
     "output_type": "stream",
     "text": [
      "{'response': {'body': {'totalCount': 40, 'items': [{'so2Grade': '1', 'coFlag': None, 'khaiValue': '92', 'so2Value': '0.003', 'coValue': '0.4', 'pm25Flag': None, 'pm10Flag': None, 'o3Grade': '2', 'pm10Value': '27', 'khaiGrade': '2', 'pm25Value': '19', 'sidoName': '서울', 'no2Flag': None, 'no2Grade': '1', 'o3Flag': None, 'pm25Grade': '1', 'so2Flag': None, 'dataTime': '2024-09-26 15:00', 'coGrade': '1', 'no2Value': '0.017', 'stationName': '강남구', 'pm10Grade': '1', 'o3Value': '0.080'}, {'so2Grade': '1', 'coFlag': None, 'khaiValue': '92', 'so2Value': '0.003', 'coValue': '0.3', 'pm25Flag': None, 'pm10Flag': None, 'o3Grade': '2', 'pm10Value': '33', 'khaiGrade': '2', 'pm25Value': '17', 'sidoName': '서울', 'no2Flag': None, 'no2Grade': '1', 'o3Flag': None, 'pm25Grade': '1', 'so2Flag': None, 'dataTime': '2024-09-26 15:00', 'coGrade': '1', 'no2Value': '0.015', 'stationName': '서초구', 'pm10Grade': '1', 'o3Value': '0.081'}, {'so2Grade': '1', 'coFlag': None, 'khaiValue': '81', 'so2Value': '0.003', 'coValue': '0.6', 'pm25Flag': None, 'pm10Flag': None, 'o3Grade': '2', 'pm10Value': '27', 'khaiGrade': '2', 'pm25Value': '21', 'sidoName': '서울', 'no2Flag': None, 'no2Grade': '1', 'o3Flag': None, 'pm25Grade': '2', 'so2Flag': None, 'dataTime': '2024-09-26 15:00', 'coGrade': '1', 'no2Value': '0.020', 'stationName': '도산대로', 'pm10Grade': '1', 'o3Value': '0.066'}, {'so2Grade': '1', 'coFlag': None, 'khaiValue': '67', 'so2Value': '0.002', 'coValue': '0.6', 'pm25Flag': None, 'pm10Flag': None, 'o3Grade': '2', 'pm10Value': '32', 'khaiGrade': '2', 'pm25Value': '17', 'sidoName': '서울', 'no2Flag': None, 'no2Grade': '2', 'o3Flag': None, 'pm25Grade': '1', 'so2Flag': None, 'dataTime': '2024-09-26 15:00', 'coGrade': '1', 'no2Value': '0.039', 'stationName': '강남대로', 'pm10Grade': '1', 'o3Value': '0.050'}, {'so2Grade': '1', 'coFlag': None, 'khaiValue': '88', 'so2Value': '0.003', 'coValue': '0.4', 'pm25Flag': None, 'pm10Flag': None, 'o3Grade': '2', 'pm10Value': '31', 'khaiGrade': '2', 'pm25Value': '12', 'sidoName': '서울', 'no2Flag': None, 'no2Grade': '1', 'o3Flag': None, 'pm25Grade': '1', 'so2Flag': None, 'dataTime': '2024-09-26 15:00', 'coGrade': '1', 'no2Value': '0.019', 'stationName': '송파구', 'pm10Grade': '1', 'o3Value': '0.075'}, {'so2Grade': '1', 'coFlag': None, 'khaiValue': '93', 'so2Value': '0.003', 'coValue': '0.5', 'pm25Flag': None, 'pm10Flag': None, 'o3Grade': '2', 'pm10Value': '30', 'khaiGrade': '2', 'pm25Value': '22', 'sidoName': '서울', 'no2Flag': None, 'no2Grade': '1', 'o3Flag': None, 'pm25Grade': '1', 'so2Flag': None, 'dataTime': '2024-09-26 15:00', 'coGrade': '1', 'no2Value': '0.014', 'stationName': '강동구', 'pm10Grade': '1', 'o3Value': '0.081'}, {'so2Grade': '1', 'coFlag': None, 'khaiValue': '80', 'so2Value': '0.002', 'coValue': '0.5', 'pm25Flag': None, 'pm10Flag': None, 'o3Grade': '2', 'pm10Value': '28', 'khaiGrade': '2', 'pm25Value': '16', 'sidoName': '서울', 'no2Flag': None, 'no2Grade': '2', 'o3Flag': None, 'pm25Grade': '1', 'so2Flag': None, 'dataTime': '2024-09-26 15:00', 'coGrade': '1', 'no2Value': '0.037', 'stationName': '천호대로', 'pm10Grade': '1', 'o3Value': '0.065'}, {'so2Grade': '1', 'coFlag': None, 'khaiValue': '90', 'so2Value': '0.003', 'coValue': '0.4', 'pm25Flag': None, 'pm10Flag': None, 'o3Grade': '2', 'pm10Value': '22', 'khaiGrade': '2', 'pm25Value': '18', 'sidoName': '서울', 'no2Flag': None, 'no2Grade': '1', 'o3Flag': None, 'pm25Grade': '1', 'so2Flag': None, 'dataTime': '2024-09-26 15:00', 'coGrade': '1', 'no2Value': '0.020', 'stationName': '금천구', 'pm10Grade': '1', 'o3Value': '0.077'}, {'so2Grade': '1', 'coFlag': None, 'khaiValue': '79', 'so2Value': '0.003', 'coValue': '0.4', 'pm25Flag': None, 'pm10Flag': None, 'o3Grade': '2', 'pm10Value': '30', 'khaiGrade': '2', 'pm25Value': '19', 'sidoName': '서울', 'no2Flag': None, 'no2Grade': '1', 'o3Flag': None, 'pm25Grade': '2', 'so2Flag': None, 'dataTime': '2024-09-26 15:00', 'coGrade': '1', 'no2Value': '0.024', 'stationName': '시흥대로', 'pm10Grade': '1', 'o3Value': '0.065'}, {'so2Grade': '1', 'coFlag': None, 'khaiValue': '92', 'so2Value': '0.002', 'coValue': '0.3', 'pm25Flag': None, 'pm10Flag': None, 'o3Grade': '2', 'pm10Value': '16', 'khaiGrade': '2', 'pm25Value': '8', 'sidoName': '서울', 'no2Flag': None, 'no2Grade': '1', 'o3Flag': None, 'pm25Grade': '1', 'so2Flag': None, 'dataTime': '2024-09-26 15:00', 'coGrade': '1', 'no2Value': '0.006', 'stationName': '강북구', 'pm10Grade': '1', 'o3Value': '0.080'}, {'so2Grade': '1', 'coFlag': None, 'khaiValue': '82', 'so2Value': '0.003', 'coValue': '0.3', 'pm25Flag': None, 'pm10Flag': None, 'o3Grade': '2', 'pm10Value': '19', 'khaiGrade': '2', 'pm25Value': '15', 'sidoName': '서울', 'no2Flag': None, 'no2Grade': '1', 'o3Flag': None, 'pm25Grade': '1', 'so2Flag': None, 'dataTime': '2024-09-26 15:00', 'coGrade': '1', 'no2Value': '0.013', 'stationName': '양천구', 'pm10Grade': '1', 'o3Value': '0.068'}, {'so2Grade': '1', 'coFlag': None, 'khaiValue': '84', 'so2Value': '0.002', 'coValue': '0.3', 'pm25Flag': None, 'pm10Flag': None, 'o3Grade': '2', 'pm10Value': '23', 'khaiGrade': '2', 'pm25Value': '11', 'sidoName': '서울', 'no2Flag': None, 'no2Grade': '1', 'o3Flag': None, 'pm25Grade': '1', 'so2Flag': None, 'dataTime': '2024-09-26 15:00', 'coGrade': '1', 'no2Value': '0.008', 'stationName': '노원구', 'pm10Grade': '1', 'o3Value': '0.071'}, {'so2Grade': None, 'coFlag': '통신장애', 'khaiValue': '-', 'so2Value': '-', 'coValue': '-', 'pm25Flag': '통신장애', 'pm10Flag': '통신장애', 'o3Grade': None, 'pm10Value': '-', 'khaiGrade': None, 'pm25Value': '-', 'sidoName': '서울', 'no2Flag': '통신장애', 'no2Grade': None, 'o3Flag': '통신장애', 'pm25Grade': None, 'so2Flag': '통신장애', 'dataTime': '2024-09-26 15:00', 'coGrade': None, 'no2Value': '-', 'stationName': '화랑로', 'pm10Grade': None, 'o3Value': '-'}, {'so2Grade': '1', 'coFlag': None, 'khaiValue': '92', 'so2Value': '0.003', 'coValue': '0.3', 'pm25Flag': None, 'pm10Flag': None, 'o3Grade': '2', 'pm10Value': '23', 'khaiGrade': '2', 'pm25Value': '18', 'sidoName': '서울', 'no2Flag': None, 'no2Grade': '1', 'o3Flag': None, 'pm25Grade': '1', 'so2Flag': None, 'dataTime': '2024-09-26 15:00', 'coGrade': '1', 'no2Value': '0.009', 'stationName': '중구', 'pm10Grade': '1', 'o3Value': '0.081'}, {'so2Grade': '1', 'coFlag': None, 'khaiValue': '93', 'so2Value': '0.003', 'coValue': '0.5', 'pm25Flag': None, 'pm10Flag': None, 'o3Grade': '2', 'pm10Value': '41', 'khaiGrade': '2', 'pm25Value': '18', 'sidoName': '서울', 'no2Flag': None, 'no2Grade': '1', 'o3Flag': None, 'pm25Grade': '2', 'so2Flag': None, 'dataTime': '2024-09-26 15:00', 'coGrade': '1', 'no2Value': '0.026', 'stationName': '한강대로', 'pm10Grade': '2', 'o3Value': '0.082'}, {'so2Grade': '1', 'coFlag': None, 'khaiValue': '94', 'so2Value': '0.003', 'coValue': '0.4', 'pm25Flag': None, 'pm10Flag': None, 'o3Grade': '2', 'pm10Value': '24', 'khaiGrade': '2', 'pm25Value': '16', 'sidoName': '서울', 'no2Flag': None, 'no2Grade': '1', 'o3Flag': None, 'pm25Grade': '1', 'so2Flag': None, 'dataTime': '2024-09-26 15:00', 'coGrade': '1', 'no2Value': '0.016', 'stationName': '종로구', 'pm10Grade': '1', 'o3Value': '0.083'}, {'so2Grade': '1', 'coFlag': None, 'khaiValue': '-', 'so2Value': '0.002', 'coValue': '0.5', 'pm25Flag': None, 'pm10Flag': None, 'o3Grade': '2', 'pm10Value': '30', 'khaiGrade': None, 'pm25Value': '19', 'sidoName': '서울', 'no2Flag': None, 'no2Grade': '1', 'o3Flag': None, 'pm25Grade': None, 'so2Flag': None, 'dataTime': '2024-09-26 15:00', 'coGrade': '1', 'no2Value': '0.023', 'stationName': '청계천로', 'pm10Grade': None, 'o3Value': '0.068'}, {'so2Grade': '1', 'coFlag': None, 'khaiValue': '81', 'so2Value': '0.003', 'coValue': '0.5', 'pm25Flag': None, 'pm10Flag': None, 'o3Grade': '2', 'pm10Value': '32', 'khaiGrade': '2', 'pm25Value': '16', 'sidoName': '서울', 'no2Flag': None, 'no2Grade': '1', 'o3Flag': None, 'pm25Grade': '1', 'so2Flag': None, 'dataTime': '2024-09-26 15:00', 'coGrade': '1', 'no2Value': '0.024', 'stationName': '종로', 'pm10Grade': '1', 'o3Value': '0.067'}, {'so2Grade': '1', 'coFlag': None, 'khaiValue': '85', 'so2Value': '0.003', 'coValue': '0.4', 'pm25Flag': None, 'pm10Flag': None, 'o3Grade': '2', 'pm10Value': '28', 'khaiGrade': '2', 'pm25Value': '18', 'sidoName': '서울', 'no2Flag': None, 'no2Grade': '1', 'o3Flag': None, 'pm25Grade': '2', 'so2Flag': None, 'dataTime': '2024-09-26 15:00', 'coGrade': '1', 'no2Value': '0.024', 'stationName': '용산구', 'pm10Grade': '1', 'o3Value': '0.072'}, {'so2Grade': '1', 'coFlag': None, 'khaiValue': '115', 'so2Value': '0.003', 'coValue': '0.7', 'pm25Flag': None, 'pm10Flag': None, 'o3Grade': '3', 'pm10Value': '27', 'khaiGrade': '3', 'pm25Value': '20', 'sidoName': '서울', 'no2Flag': None, 'no2Grade': '1', 'o3Flag': None, 'pm25Grade': '1', 'so2Flag': None, 'dataTime': '2024-09-26 15:00', 'coGrade': '1', 'no2Value': '0.017', 'stationName': '광진구', 'pm10Grade': '1', 'o3Value': '0.096'}, {'so2Grade': '1', 'coFlag': None, 'khaiValue': '93', 'so2Value': '0.003', 'coValue': '0.4', 'pm25Flag': None, 'pm10Flag': None, 'o3Grade': '2', 'pm10Value': '30', 'khaiGrade': '2', 'pm25Value': '17', 'sidoName': '서울', 'no2Flag': None, 'no2Grade': '1', 'o3Flag': None, 'pm25Grade': '1', 'so2Flag': None, 'dataTime': '2024-09-26 15:00', 'coGrade': '1', 'no2Value': '0.021', 'stationName': '성동구', 'pm10Grade': '1', 'o3Value': '0.081'}, {'so2Grade': None, 'coFlag': '통신장애', 'khaiValue': '-', 'so2Value': '-', 'coValue': '-', 'pm25Flag': '통신장애', 'pm10Flag': None, 'o3Grade': None, 'pm10Value': '33', 'khaiGrade': None, 'pm25Value': '-', 'sidoName': '서울', 'no2Flag': '통신장애', 'no2Grade': None, 'o3Flag': '통신장애', 'pm25Grade': None, 'so2Flag': '통신장애', 'dataTime': '2024-09-26 15:00', 'coGrade': None, 'no2Value': '-', 'stationName': '강변북로', 'pm10Grade': None, 'o3Value': '-'}, {'so2Grade': '1', 'coFlag': None, 'khaiValue': '91', 'so2Value': '0.002', 'coValue': '0.3', 'pm25Flag': None, 'pm10Flag': None, 'o3Grade': '2', 'pm10Value': '26', 'khaiGrade': '2', 'pm25Value': '16', 'sidoName': '서울', 'no2Flag': None, 'no2Grade': '1', 'o3Flag': None, 'pm25Grade': '1', 'so2Flag': None, 'dataTime': '2024-09-26 15:00', 'coGrade': '1', 'no2Value': '0.014', 'stationName': '중랑구', 'pm10Grade': '1', 'o3Value': '0.079'}, {'so2Grade': None, 'coFlag': '통신장애', 'khaiValue': '-', 'so2Value': '-', 'coValue': '-', 'pm25Flag': '통신장애', 'pm10Flag': '통신장애', 'o3Grade': None, 'pm10Value': '-', 'khaiGrade': None, 'pm25Value': '-', 'sidoName': '서울', 'no2Flag': '통신장애', 'no2Grade': None, 'o3Flag': '통신장애', 'pm25Grade': None, 'so2Flag': '통신장애', 'dataTime': '2024-09-26 15:00', 'coGrade': None, 'no2Value': '-', 'stationName': '동대문구', 'pm10Grade': None, 'o3Value': '-'}, {'so2Grade': '1', 'coFlag': None, 'khaiValue': '-', 'so2Value': '0.003', 'coValue': '0.5', 'pm25Flag': None, 'pm10Flag': None, 'o3Grade': '2', 'pm10Value': '30', 'khaiGrade': None, 'pm25Value': '15', 'sidoName': '서울', 'no2Flag': None, 'no2Grade': '2', 'o3Flag': None, 'pm25Grade': None, 'so2Flag': None, 'dataTime': '2024-09-26 15:00', 'coGrade': '1', 'no2Value': '0.030', 'stationName': '홍릉로', 'pm10Grade': None, 'o3Value': '0.066'}, {'so2Grade': '1', 'coFlag': None, 'khaiValue': '87', 'so2Value': '0.003', 'coValue': '0.3', 'pm25Flag': None, 'pm10Flag': None, 'o3Grade': '2', 'pm10Value': '26', 'khaiGrade': '2', 'pm25Value': '13', 'sidoName': '서울', 'no2Flag': None, 'no2Grade': '1', 'o3Flag': None, 'pm25Grade': '1', 'so2Flag': None, 'dataTime': '2024-09-26 15:00', 'coGrade': '1', 'no2Value': '0.014', 'stationName': '성북구', 'pm10Grade': '1', 'o3Value': '0.074'}, {'so2Grade': '1', 'coFlag': None, 'khaiValue': '84', 'so2Value': '0.003', 'coValue': '0.5', 'pm25Flag': None, 'pm10Flag': None, 'o3Grade': '2', 'pm10Value': '32', 'khaiGrade': '2', 'pm25Value': '17', 'sidoName': '서울', 'no2Flag': None, 'no2Grade': '2', 'o3Flag': None, 'pm25Grade': '1', 'so2Flag': None, 'dataTime': '2024-09-26 15:00', 'coGrade': '1', 'no2Value': '0.036', 'stationName': '정릉로', 'pm10Grade': '1', 'o3Value': '0.071'}, {'so2Grade': '1', 'coFlag': None, 'khaiValue': '92', 'so2Value': '0.002', 'coValue': '0.3', 'pm25Flag': None, 'pm10Flag': None, 'o3Grade': '2', 'pm10Value': '14', 'khaiGrade': '2', 'pm25Value': '13', 'sidoName': '서울', 'no2Flag': None, 'no2Grade': '1', 'o3Flag': None, 'pm25Grade': '1', 'so2Flag': None, 'dataTime': '2024-09-26 15:00', 'coGrade': '1', 'no2Value': '0.008', 'stationName': '도봉구', 'pm10Grade': '1', 'o3Value': '0.081'}, {'so2Grade': '1', 'coFlag': None, 'khaiValue': '73', 'so2Value': '0.003', 'coValue': '0.3', 'pm25Flag': None, 'pm10Flag': None, 'o3Grade': '2', 'pm10Value': '22', 'khaiGrade': '2', 'pm25Value': '18', 'sidoName': '서울', 'no2Flag': None, 'no2Grade': '1', 'o3Flag': None, 'pm25Grade': '1', 'so2Flag': None, 'dataTime': '2024-09-26 15:00', 'coGrade': '1', 'no2Value': '0.009', 'stationName': '은평구', 'pm10Grade': '1', 'o3Value': '0.057'}, {'so2Grade': '1', 'coFlag': None, 'khaiValue': '95', 'so2Value': '0.003', 'coValue': '0.3', 'pm25Flag': None, 'pm10Flag': None, 'o3Grade': '2', 'pm10Value': '19', 'khaiGrade': '2', 'pm25Value': '12', 'sidoName': '서울', 'no2Flag': None, 'no2Grade': '1', 'o3Flag': None, 'pm25Grade': '1', 'so2Flag': None, 'dataTime': '2024-09-26 15:00', 'coGrade': '1', 'no2Value': '0.011', 'stationName': '서대문구', 'pm10Grade': '1', 'o3Value': '0.083'}, {'so2Grade': '1', 'coFlag': None, 'khaiValue': '89', 'so2Value': '0.003', 'coValue': '0.3', 'pm25Flag': None, 'pm10Flag': None, 'o3Grade': '2', 'pm10Value': '17', 'khaiGrade': '2', 'pm25Value': '15', 'sidoName': '서울', 'no2Flag': None, 'no2Grade': '1', 'o3Flag': None, 'pm25Grade': '1', 'so2Flag': None, 'dataTime': '2024-09-26 15:00', 'coGrade': '1', 'no2Value': '0.014', 'stationName': '마포구', 'pm10Grade': '1', 'o3Value': '0.077'}, {'so2Grade': '1', 'coFlag': None, 'khaiValue': '66', 'so2Value': '0.003', 'coValue': '0.6', 'pm25Flag': None, 'pm10Flag': None, 'o3Grade': '2', 'pm10Value': '28', 'khaiGrade': '2', 'pm25Value': '22', 'sidoName': '서울', 'no2Flag': None, 'no2Grade': '2', 'o3Flag': None, 'pm25Grade': '1', 'so2Flag': None, 'dataTime': '2024-09-26 15:00', 'coGrade': '1', 'no2Value': '0.038', 'stationName': '신촌로', 'pm10Grade': '1', 'o3Value': '0.048'}, {'so2Grade': '1', 'coFlag': None, 'khaiValue': '86', 'so2Value': '0.003', 'coValue': '0.3', 'pm25Flag': None, 'pm10Flag': None, 'o3Grade': '2', 'pm10Value': '21', 'khaiGrade': '2', 'pm25Value': '17', 'sidoName': '서울', 'no2Flag': None, 'no2Grade': '1', 'o3Flag': None, 'pm25Grade': '1', 'so2Flag': None, 'dataTime': '2024-09-26 15:00', 'coGrade': '1', 'no2Value': '0.012', 'stationName': '강서구', 'pm10Grade': '1', 'o3Value': '0.073'}, {'so2Grade': None, 'coFlag': '통신장애', 'khaiValue': '-', 'so2Value': '-', 'coValue': '-', 'pm25Flag': '통신장애', 'pm10Flag': '통신장애', 'o3Grade': None, 'pm10Value': '-', 'khaiGrade': None, 'pm25Value': '-', 'sidoName': '서울', 'no2Flag': '통신장애', 'no2Grade': None, 'o3Flag': '통신장애', 'pm25Grade': None, 'so2Flag': '통신장애', 'dataTime': '2024-09-26 15:00', 'coGrade': None, 'no2Value': '-', 'stationName': '공항대로', 'pm10Grade': None, 'o3Value': '-'}, {'so2Grade': '1', 'coFlag': None, 'khaiValue': '86', 'so2Value': '0.003', 'coValue': '0.4', 'pm25Flag': None, 'pm10Flag': None, 'o3Grade': '2', 'pm10Value': '22', 'khaiGrade': '2', 'pm25Value': '10', 'sidoName': '서울', 'no2Flag': None, 'no2Grade': '1', 'o3Flag': None, 'pm25Grade': '1', 'so2Flag': None, 'dataTime': '2024-09-26 15:00', 'coGrade': '1', 'no2Value': '0.010', 'stationName': '구로구', 'pm10Grade': '1', 'o3Value': '0.073'}, {'so2Grade': '1', 'coFlag': None, 'khaiValue': '90', 'so2Value': '0.003', 'coValue': '0.3', 'pm25Flag': None, 'pm10Flag': None, 'o3Grade': '2', 'pm10Value': '22', 'khaiGrade': '2', 'pm25Value': '18', 'sidoName': '서울', 'no2Flag': None, 'no2Grade': '1', 'o3Flag': None, 'pm25Grade': '1', 'so2Flag': None, 'dataTime': '2024-09-26 15:00', 'coGrade': '1', 'no2Value': '0.017', 'stationName': '영등포구', 'pm10Grade': '1', 'o3Value': '0.078'}, {'so2Grade': '1', 'coFlag': None, 'khaiValue': '75', 'so2Value': '0.002', 'coValue': '0.5', 'pm25Flag': None, 'pm10Flag': None, 'o3Grade': '2', 'pm10Value': '25', 'khaiGrade': '2', 'pm25Value': '16', 'sidoName': '서울', 'no2Flag': None, 'no2Grade': '2', 'o3Flag': None, 'pm25Grade': '1', 'so2Flag': None, 'dataTime': '2024-09-26 15:00', 'coGrade': '1', 'no2Value': '0.032', 'stationName': '영등포로', 'pm10Grade': '1', 'o3Value': '0.059'}, {'so2Grade': '1', 'coFlag': None, 'khaiValue': '96', 'so2Value': '0.003', 'coValue': '0.3', 'pm25Flag': None, 'pm10Flag': None, 'o3Grade': '2', 'pm10Value': '31', 'khaiGrade': '2', 'pm25Value': '19', 'sidoName': '서울', 'no2Flag': None, 'no2Grade': '1', 'o3Flag': None, 'pm25Grade': '1', 'so2Flag': None, 'dataTime': '2024-09-26 15:00', 'coGrade': '1', 'no2Value': '0.017', 'stationName': '동작구', 'pm10Grade': '1', 'o3Value': '0.085'}, {'so2Grade': '1', 'coFlag': None, 'khaiValue': '83', 'so2Value': '0.003', 'coValue': '0.4', 'pm25Flag': None, 'pm10Flag': None, 'o3Grade': '2', 'pm10Value': '30', 'khaiGrade': '2', 'pm25Value': '24', 'sidoName': '서울', 'no2Flag': None, 'no2Grade': '2', 'o3Flag': None, 'pm25Grade': '2', 'so2Flag': None, 'dataTime': '2024-09-26 15:00', 'coGrade': '1', 'no2Value': '0.039', 'stationName': '동작대로 중앙차로', 'pm10Grade': '1', 'o3Value': '0.069'}, {'so2Grade': '1', 'coFlag': None, 'khaiValue': '89', 'so2Value': '0.003', 'coValue': '0.3', 'pm25Flag': None, 'pm10Flag': None, 'o3Grade': '2', 'pm10Value': '28', 'khaiGrade': '2', 'pm25Value': '15', 'sidoName': '서울', 'no2Flag': None, 'no2Grade': '1', 'o3Flag': None, 'pm25Grade': '1', 'so2Flag': None, 'dataTime': '2024-09-26 15:00', 'coGrade': '1', 'no2Value': '0.017', 'stationName': '관악구', 'pm10Grade': '1', 'o3Value': '0.076'}], 'pageNo': 1, 'numOfRows': 100}, 'header': {'resultMsg': 'NORMAL_CODE', 'resultCode': '00'}}}\n"
     ]
    }
   ],
   "source": [
    "import json\n",
    "sido = \"서울\"\n",
    "url = 'http://apis.data.go.kr/B552584/ArpltnInforInqireSvc/getCtprvnRltmMesureDnsty'\n",
    "params ={'serviceKey' : '+VNWs9eRHtfVOom9x6qojoca7bnMJO1fkfkbCGdwwZ/ARyiqjGkPgk0QEy6kk1AmQsqeOJskC65lg0E4fA0cjA==', 'returnType' : 'json', 'numOfRows' : '100', 'pageNo' : '1', 'sidoName' : sido, 'ver' : '1.0' }    \n",
    "response = requests.get(url, params=params)\n",
    "content = response.content.decode('utf-8')\n",
    "data = json.loads(content)\n",
    "print(data)"
   ]
  },
  {
   "cell_type": "code",
   "execution_count": 4,
   "metadata": {},
   "outputs": [
    {
     "name": "stdout",
     "output_type": "stream",
     "text": [
      "[{'측정소명': '강남구', '날짜': '2024-09-26 15:00', 'pm10농도': '27', 'pm25농도': '19', 'so2농도': '0.003', 'co농도': '0.4', 'o3농도': '0.080', 'no2농도': '0.017', '통합대기환경수치': '92', '통합대기환경지수': '2', 'pm10등급': '1', 'pm25등급': '1'}, {'측정소명': '서초구', '날짜': '2024-09-26 15:00', 'pm10농도': '33', 'pm25농도': '17', 'so2농도': '0.003', 'co농도': '0.3', 'o3농도': '0.081', 'no2농도': '0.015', '통합대기환경수치': '92', '통합대기환경지수': '2', 'pm10등급': '1', 'pm25등급': '1'}, {'측정소명': '도산대로', '날짜': '2024-09-26 15:00', 'pm10농도': '27', 'pm25농도': '21', 'so2농도': '0.003', 'co농도': '0.6', 'o3농도': '0.066', 'no2농도': '0.020', '통합대기환경수치': '81', '통합대기환경지수': '2', 'pm10등급': '1', 'pm25등급': '2'}, {'측정소명': '강남대로', '날짜': '2024-09-26 15:00', 'pm10농도': '32', 'pm25농도': '17', 'so2농도': '0.002', 'co농도': '0.6', 'o3농도': '0.050', 'no2농도': '0.039', '통합대기환경수치': '67', '통합대기환경지수': '2', 'pm10등급': '1', 'pm25등급': '1'}, {'측정소명': '송파구', '날짜': '2024-09-26 15:00', 'pm10농도': '31', 'pm25농도': '12', 'so2농도': '0.003', 'co농도': '0.4', 'o3농도': '0.075', 'no2농도': '0.019', '통합대기환경수치': '88', '통합대기환경지수': '2', 'pm10등급': '1', 'pm25등급': '1'}, {'측정소명': '강동구', '날짜': '2024-09-26 15:00', 'pm10농도': '30', 'pm25농도': '22', 'so2농도': '0.003', 'co농도': '0.5', 'o3농도': '0.081', 'no2농도': '0.014', '통합대기환경수치': '93', '통합대기환경지수': '2', 'pm10등급': '1', 'pm25등급': '1'}, {'측정소명': '천호대로', '날짜': '2024-09-26 15:00', 'pm10농도': '28', 'pm25농도': '16', 'so2농도': '0.002', 'co농도': '0.5', 'o3농도': '0.065', 'no2농도': '0.037', '통합대기환경수치': '80', '통합대기환경지수': '2', 'pm10등급': '1', 'pm25등급': '1'}, {'측정소명': '금천구', '날짜': '2024-09-26 15:00', 'pm10농도': '22', 'pm25농도': '18', 'so2농도': '0.003', 'co농도': '0.4', 'o3농도': '0.077', 'no2농도': '0.020', '통합대기환경수치': '90', '통합대기환경지수': '2', 'pm10등급': '1', 'pm25등급': '1'}, {'측정소명': '시흥대로', '날짜': '2024-09-26 15:00', 'pm10농도': '30', 'pm25농도': '19', 'so2농도': '0.003', 'co농도': '0.4', 'o3농도': '0.065', 'no2농도': '0.024', '통합대기환경수치': '79', '통합대기환경지수': '2', 'pm10등급': '1', 'pm25등급': '2'}, {'측정소명': '강북구', '날짜': '2024-09-26 15:00', 'pm10농도': '16', 'pm25농도': '8', 'so2농도': '0.002', 'co농도': '0.3', 'o3농도': '0.080', 'no2농도': '0.006', '통합대기환경수치': '92', '통합대기환경지수': '2', 'pm10등급': '1', 'pm25등급': '1'}, {'측정소명': '양천구', '날짜': '2024-09-26 15:00', 'pm10농도': '19', 'pm25농도': '15', 'so2농도': '0.003', 'co농도': '0.3', 'o3농도': '0.068', 'no2농도': '0.013', '통합대기환경수치': '82', '통합대기환경지수': '2', 'pm10등급': '1', 'pm25등급': '1'}, {'측정소명': '노원구', '날짜': '2024-09-26 15:00', 'pm10농도': '23', 'pm25농도': '11', 'so2농도': '0.002', 'co농도': '0.3', 'o3농도': '0.071', 'no2농도': '0.008', '통합대기환경수치': '84', '통합대기환경지수': '2', 'pm10등급': '1', 'pm25등급': '1'}, {'측정소명': '화랑로', '날짜': '2024-09-26 15:00', 'pm10농도': '-', 'pm25농도': '-', 'so2농도': '-', 'co농도': '-', 'o3농도': '-', 'no2농도': '-', '통합대기환경수치': '-', '통합대기환경지수': None, 'pm10등급': None, 'pm25등급': None}, {'측정소명': '중구', '날짜': '2024-09-26 15:00', 'pm10농도': '23', 'pm25농도': '18', 'so2농도': '0.003', 'co농도': '0.3', 'o3농도': '0.081', 'no2농도': '0.009', '통합대기환경수치': '92', '통합대기환경지수': '2', 'pm10등급': '1', 'pm25등급': '1'}, {'측정소명': '한강대로', '날짜': '2024-09-26 15:00', 'pm10농도': '41', 'pm25농도': '18', 'so2농도': '0.003', 'co농도': '0.5', 'o3농도': '0.082', 'no2농도': '0.026', '통합대기환경수치': '93', '통합대기환경지수': '2', 'pm10등급': '2', 'pm25등급': '2'}, {'측정소명': '종로구', '날짜': '2024-09-26 15:00', 'pm10농도': '24', 'pm25농도': '16', 'so2농도': '0.003', 'co농도': '0.4', 'o3농도': '0.083', 'no2농도': '0.016', '통합대기환경수치': '94', '통합대기환경지수': '2', 'pm10등급': '1', 'pm25등급': '1'}, {'측정소명': '청계천로', '날짜': '2024-09-26 15:00', 'pm10농도': '30', 'pm25농도': '19', 'so2농도': '0.002', 'co농도': '0.5', 'o3농도': '0.068', 'no2농도': '0.023', '통합대기환경수치': '-', '통합대기환경지수': None, 'pm10등급': None, 'pm25등급': None}, {'측정소명': '종로', '날짜': '2024-09-26 15:00', 'pm10농도': '32', 'pm25농도': '16', 'so2농도': '0.003', 'co농도': '0.5', 'o3농도': '0.067', 'no2농도': '0.024', '통합대기환경수치': '81', '통합대기환경지수': '2', 'pm10등급': '1', 'pm25등급': '1'}, {'측정소명': '용산구', '날짜': '2024-09-26 15:00', 'pm10농도': '28', 'pm25농도': '18', 'so2농도': '0.003', 'co농도': '0.4', 'o3농도': '0.072', 'no2농도': '0.024', '통합대기환경수치': '85', '통합대기환경지수': '2', 'pm10등급': '1', 'pm25등급': '2'}, {'측정소명': '광진구', '날짜': '2024-09-26 15:00', 'pm10농도': '27', 'pm25농도': '20', 'so2농도': '0.003', 'co농도': '0.7', 'o3농도': '0.096', 'no2농도': '0.017', '통합대기환경수치': '115', '통합대기환경지수': '3', 'pm10등급': '1', 'pm25등급': '1'}, {'측정소명': '성동구', '날짜': '2024-09-26 15:00', 'pm10농도': '30', 'pm25농도': '17', 'so2농도': '0.003', 'co농도': '0.4', 'o3농도': '0.081', 'no2농도': '0.021', '통합대기환경수치': '93', '통합대기환경지수': '2', 'pm10등급': '1', 'pm25등급': '1'}, {'측정소명': '강변북로', '날짜': '2024-09-26 15:00', 'pm10농도': '33', 'pm25농도': '-', 'so2농도': '-', 'co농도': '-', 'o3농도': '-', 'no2농도': '-', '통합대기환경수치': '-', '통합대기환경지수': None, 'pm10등급': None, 'pm25등급': None}, {'측정소명': '중랑구', '날짜': '2024-09-26 15:00', 'pm10농도': '26', 'pm25농도': '16', 'so2농도': '0.002', 'co농도': '0.3', 'o3농도': '0.079', 'no2농도': '0.014', '통합대기환경수치': '91', '통합대기환경지수': '2', 'pm10등급': '1', 'pm25등급': '1'}, {'측정소명': '동대문구', '날짜': '2024-09-26 15:00', 'pm10농도': '-', 'pm25농도': '-', 'so2농도': '-', 'co농도': '-', 'o3농도': '-', 'no2농도': '-', '통합대기환경수치': '-', '통합대기환경지수': None, 'pm10등급': None, 'pm25등급': None}, {'측정소명': '홍릉로', '날짜': '2024-09-26 15:00', 'pm10농도': '30', 'pm25농도': '15', 'so2농도': '0.003', 'co농도': '0.5', 'o3농도': '0.066', 'no2농도': '0.030', '통합대기환경수치': '-', '통합대기환경지수': None, 'pm10등급': None, 'pm25등급': None}, {'측정소명': '성북구', '날짜': '2024-09-26 15:00', 'pm10농도': '26', 'pm25농도': '13', 'so2농도': '0.003', 'co농도': '0.3', 'o3농도': '0.074', 'no2농도': '0.014', '통합대기환경수치': '87', '통합대기환경지수': '2', 'pm10등급': '1', 'pm25등급': '1'}, {'측정소명': '정릉로', '날짜': '2024-09-26 15:00', 'pm10농도': '32', 'pm25농도': '17', 'so2농도': '0.003', 'co농도': '0.5', 'o3농도': '0.071', 'no2농도': '0.036', '통합대기환경수치': '84', '통합대기환경지수': '2', 'pm10등급': '1', 'pm25등급': '1'}, {'측정소명': '도봉구', '날짜': '2024-09-26 15:00', 'pm10농도': '14', 'pm25농도': '13', 'so2농도': '0.002', 'co농도': '0.3', 'o3농도': '0.081', 'no2농도': '0.008', '통합대기환경수치': '92', '통합대기환경지수': '2', 'pm10등급': '1', 'pm25등급': '1'}, {'측정소명': '은평구', '날짜': '2024-09-26 15:00', 'pm10농도': '22', 'pm25농도': '18', 'so2농도': '0.003', 'co농도': '0.3', 'o3농도': '0.057', 'no2농도': '0.009', '통합대기환경수치': '73', '통합대기환경지수': '2', 'pm10등급': '1', 'pm25등급': '1'}, {'측정소명': '서대문구', '날짜': '2024-09-26 15:00', 'pm10농도': '19', 'pm25농도': '12', 'so2농도': '0.003', 'co농도': '0.3', 'o3농도': '0.083', 'no2농도': '0.011', '통합대기환경수치': '95', '통합대기환경지수': '2', 'pm10등급': '1', 'pm25등급': '1'}, {'측정소명': '마포구', '날짜': '2024-09-26 15:00', 'pm10농도': '17', 'pm25농도': '15', 'so2농도': '0.003', 'co농도': '0.3', 'o3농도': '0.077', 'no2농도': '0.014', '통합대기환경수치': '89', '통합대기환경지수': '2', 'pm10등급': '1', 'pm25등급': '1'}, {'측정소명': '신촌로', '날짜': '2024-09-26 15:00', 'pm10농도': '28', 'pm25농도': '22', 'so2농도': '0.003', 'co농도': '0.6', 'o3농도': '0.048', 'no2농도': '0.038', '통합대기환경수치': '66', '통합대기환경지수': '2', 'pm10등급': '1', 'pm25등급': '1'}, {'측정소명': '강서구', '날짜': '2024-09-26 15:00', 'pm10농도': '21', 'pm25농도': '17', 'so2농도': '0.003', 'co농도': '0.3', 'o3농도': '0.073', 'no2농도': '0.012', '통합대기환경수치': '86', '통합대기환경지수': '2', 'pm10등급': '1', 'pm25등급': '1'}, {'측정소명': '공항대로', '날짜': '2024-09-26 15:00', 'pm10농도': '-', 'pm25농도': '-', 'so2농도': '-', 'co농도': '-', 'o3농도': '-', 'no2농도': '-', '통합대기환경수치': '-', '통합대기환경지수': None, 'pm10등급': None, 'pm25등급': None}, {'측정소명': '구로구', '날짜': '2024-09-26 15:00', 'pm10농도': '22', 'pm25농도': '10', 'so2농도': '0.003', 'co농도': '0.4', 'o3농도': '0.073', 'no2농도': '0.010', '통합대기환경수치': '86', '통합대기환경지수': '2', 'pm10등급': '1', 'pm25등급': '1'}, {'측정소명': '영등포구', '날짜': '2024-09-26 15:00', 'pm10농도': '22', 'pm25농도': '18', 'so2농도': '0.003', 'co농도': '0.3', 'o3농도': '0.078', 'no2농도': '0.017', '통합대기환경수치': '90', '통합대기환경지수': '2', 'pm10등급': '1', 'pm25등급': '1'}, {'측정소명': '영등포로', '날짜': '2024-09-26 15:00', 'pm10농도': '25', 'pm25농도': '16', 'so2농도': '0.002', 'co농도': '0.5', 'o3농도': '0.059', 'no2농도': '0.032', '통합대기환경수치': '75', '통합대기환경지수': '2', 'pm10등급': '1', 'pm25등급': '1'}, {'측정소명': '동작구', '날짜': '2024-09-26 15:00', 'pm10농도': '31', 'pm25농도': '19', 'so2농도': '0.003', 'co농도': '0.3', 'o3농도': '0.085', 'no2농도': '0.017', '통합대기환경수치': '96', '통합대기환경지수': '2', 'pm10등급': '1', 'pm25등급': '1'}, {'측정소명': '동작대로 중앙차로', '날짜': '2024-09-26 15:00', 'pm10농도': '30', 'pm25농도': '24', 'so2농도': '0.003', 'co농도': '0.4', 'o3농도': '0.069', 'no2농도': '0.039', '통합대기환경수치': '83', '통합대기환경지수': '2', 'pm10등급': '1', 'pm25등급': '2'}, {'측정소명': '관악구', '날짜': '2024-09-26 15:00', 'pm10농도': '28', 'pm25농도': '15', 'so2농도': '0.003', 'co농도': '0.3', 'o3농도': '0.076', 'no2농도': '0.017', '통합대기환경수치': '89', '통합대기환경지수': '2', 'pm10등급': '1', 'pm25등급': '1'}]\n"
     ]
    }
   ],
   "source": [
    "def parse_air_quality_data(data):\n",
    "    items = data['response']['body']['items']\n",
    "    air_quality_info = []\n",
    "    for item in items:\n",
    "        info = {\n",
    "            '측정소명': item.get('stationName'),\n",
    "            '날짜': item.get('dataTime'),\n",
    "            'pm10농도': item.get('pm10Value'),\n",
    "            'pm25농도': item.get('pm25Value'),\n",
    "            'so2농도': item.get('so2Value'),\n",
    "            'co농도': item.get('coValue'),\n",
    "            'o3농도': item.get('o3Value'),\n",
    "            'no2농도': item.get('no2Value'),\n",
    "            '통합대기환경수치': item.get('khaiValue'),\n",
    "            '통합대기환경지수': item.get('khaiGrade'),\n",
    "            'pm10등급': item.get('pm10Grade'),\n",
    "            'pm25등급': item.get('pm25Grade')\n",
    "        }\n",
    "        air_quality_info.append(info)\n",
    "    return air_quality_info\n",
    "\n",
    "air_quality_info = parse_air_quality_data(data)\n",
    "print(air_quality_info)"
   ]
  },
  {
   "cell_type": "code",
   "execution_count": 5,
   "metadata": {},
   "outputs": [
    {
     "name": "stdout",
     "output_type": "stream",
     "text": [
      "[Document(metadata={}, page_content='측정소명: 강남구, 날짜: 2024-09-26 15:00, pm10농도: 27, pm25농도: 19, 통합대기환경수치: 92'), Document(metadata={}, page_content='측정소명: 서초구, 날짜: 2024-09-26 15:00, pm10농도: 33, pm25농도: 17, 통합대기환경수치: 92'), Document(metadata={}, page_content='측정소명: 도산대로, 날짜: 2024-09-26 15:00, pm10농도: 27, pm25농도: 21, 통합대기환경수치: 81'), Document(metadata={}, page_content='측정소명: 강남대로, 날짜: 2024-09-26 15:00, pm10농도: 32, pm25농도: 17, 통합대기환경수치: 67'), Document(metadata={}, page_content='측정소명: 송파구, 날짜: 2024-09-26 15:00, pm10농도: 31, pm25농도: 12, 통합대기환경수치: 88'), Document(metadata={}, page_content='측정소명: 강동구, 날짜: 2024-09-26 15:00, pm10농도: 30, pm25농도: 22, 통합대기환경수치: 93'), Document(metadata={}, page_content='측정소명: 천호대로, 날짜: 2024-09-26 15:00, pm10농도: 28, pm25농도: 16, 통합대기환경수치: 80'), Document(metadata={}, page_content='측정소명: 금천구, 날짜: 2024-09-26 15:00, pm10농도: 22, pm25농도: 18, 통합대기환경수치: 90'), Document(metadata={}, page_content='측정소명: 시흥대로, 날짜: 2024-09-26 15:00, pm10농도: 30, pm25농도: 19, 통합대기환경수치: 79'), Document(metadata={}, page_content='측정소명: 강북구, 날짜: 2024-09-26 15:00, pm10농도: 16, pm25농도: 8, 통합대기환경수치: 92'), Document(metadata={}, page_content='측정소명: 양천구, 날짜: 2024-09-26 15:00, pm10농도: 19, pm25농도: 15, 통합대기환경수치: 82'), Document(metadata={}, page_content='측정소명: 노원구, 날짜: 2024-09-26 15:00, pm10농도: 23, pm25농도: 11, 통합대기환경수치: 84'), Document(metadata={}, page_content='측정소명: 화랑로, 날짜: 2024-09-26 15:00, pm10농도: -, pm25농도: -, 통합대기환경수치: -'), Document(metadata={}, page_content='측정소명: 중구, 날짜: 2024-09-26 15:00, pm10농도: 23, pm25농도: 18, 통합대기환경수치: 92'), Document(metadata={}, page_content='측정소명: 한강대로, 날짜: 2024-09-26 15:00, pm10농도: 41, pm25농도: 18, 통합대기환경수치: 93'), Document(metadata={}, page_content='측정소명: 종로구, 날짜: 2024-09-26 15:00, pm10농도: 24, pm25농도: 16, 통합대기환경수치: 94'), Document(metadata={}, page_content='측정소명: 청계천로, 날짜: 2024-09-26 15:00, pm10농도: 30, pm25농도: 19, 통합대기환경수치: -'), Document(metadata={}, page_content='측정소명: 종로, 날짜: 2024-09-26 15:00, pm10농도: 32, pm25농도: 16, 통합대기환경수치: 81'), Document(metadata={}, page_content='측정소명: 용산구, 날짜: 2024-09-26 15:00, pm10농도: 28, pm25농도: 18, 통합대기환경수치: 85'), Document(metadata={}, page_content='측정소명: 광진구, 날짜: 2024-09-26 15:00, pm10농도: 27, pm25농도: 20, 통합대기환경수치: 115'), Document(metadata={}, page_content='측정소명: 성동구, 날짜: 2024-09-26 15:00, pm10농도: 30, pm25농도: 17, 통합대기환경수치: 93'), Document(metadata={}, page_content='측정소명: 강변북로, 날짜: 2024-09-26 15:00, pm10농도: 33, pm25농도: -, 통합대기환경수치: -'), Document(metadata={}, page_content='측정소명: 중랑구, 날짜: 2024-09-26 15:00, pm10농도: 26, pm25농도: 16, 통합대기환경수치: 91'), Document(metadata={}, page_content='측정소명: 동대문구, 날짜: 2024-09-26 15:00, pm10농도: -, pm25농도: -, 통합대기환경수치: -'), Document(metadata={}, page_content='측정소명: 홍릉로, 날짜: 2024-09-26 15:00, pm10농도: 30, pm25농도: 15, 통합대기환경수치: -'), Document(metadata={}, page_content='측정소명: 성북구, 날짜: 2024-09-26 15:00, pm10농도: 26, pm25농도: 13, 통합대기환경수치: 87'), Document(metadata={}, page_content='측정소명: 정릉로, 날짜: 2024-09-26 15:00, pm10농도: 32, pm25농도: 17, 통합대기환경수치: 84'), Document(metadata={}, page_content='측정소명: 도봉구, 날짜: 2024-09-26 15:00, pm10농도: 14, pm25농도: 13, 통합대기환경수치: 92'), Document(metadata={}, page_content='측정소명: 은평구, 날짜: 2024-09-26 15:00, pm10농도: 22, pm25농도: 18, 통합대기환경수치: 73'), Document(metadata={}, page_content='측정소명: 서대문구, 날짜: 2024-09-26 15:00, pm10농도: 19, pm25농도: 12, 통합대기환경수치: 95'), Document(metadata={}, page_content='측정소명: 마포구, 날짜: 2024-09-26 15:00, pm10농도: 17, pm25농도: 15, 통합대기환경수치: 89'), Document(metadata={}, page_content='측정소명: 신촌로, 날짜: 2024-09-26 15:00, pm10농도: 28, pm25농도: 22, 통합대기환경수치: 66'), Document(metadata={}, page_content='측정소명: 강서구, 날짜: 2024-09-26 15:00, pm10농도: 21, pm25농도: 17, 통합대기환경수치: 86'), Document(metadata={}, page_content='측정소명: 공항대로, 날짜: 2024-09-26 15:00, pm10농도: -, pm25농도: -, 통합대기환경수치: -'), Document(metadata={}, page_content='측정소명: 구로구, 날짜: 2024-09-26 15:00, pm10농도: 22, pm25농도: 10, 통합대기환경수치: 86'), Document(metadata={}, page_content='측정소명: 영등포구, 날짜: 2024-09-26 15:00, pm10농도: 22, pm25농도: 18, 통합대기환경수치: 90'), Document(metadata={}, page_content='측정소명: 영등포로, 날짜: 2024-09-26 15:00, pm10농도: 25, pm25농도: 16, 통합대기환경수치: 75'), Document(metadata={}, page_content='측정소명: 동작구, 날짜: 2024-09-26 15:00, pm10농도: 31, pm25농도: 19, 통합대기환경수치: 96'), Document(metadata={}, page_content='측정소명: 동작대로 중앙차로, 날짜: 2024-09-26 15:00, pm10농도: 30, pm25농도: 24, 통합대기환경수치: 83'), Document(metadata={}, page_content='측정소명: 관악구, 날짜: 2024-09-26 15:00, pm10농도: 28, pm25농도: 15, 통합대기환경수치: 89')]\n"
     ]
    }
   ],
   "source": [
    "from langchain_community.vectorstores import FAISS\n",
    "from langchain_text_splitters import RecursiveCharacterTextSplitter\n",
    "from langchain.schema import Document\n",
    "\n",
    "documents = [Document(page_content=\", \".join([f\"{key}: {str(info[key])}\" for key in ['측정소명', '날짜', 'pm10농도', 'pm25농도', '통합대기환경수치']])) for info in air_quality_info]\n",
    "print(documents)"
   ]
  },
  {
   "cell_type": "code",
   "execution_count": 6,
   "metadata": {},
   "outputs": [
    {
     "name": "stderr",
     "output_type": "stream",
     "text": [
      "C:\\Users\\AISW-203-102\\AppData\\Local\\Temp\\ipykernel_25028\\2814393515.py:2: LangChainDeprecationWarning: The class `HuggingFaceEmbeddings` was deprecated in LangChain 0.2.2 and will be removed in 1.0. An updated version of the class exists in the :class:`~langchain-huggingface package and should be used instead. To use it run `pip install -U :class:`~langchain-huggingface` and import as `from :class:`~langchain_huggingface import HuggingFaceEmbeddings``.\n",
      "  embedding_function = SentenceTransformerEmbeddings(model_name=\"jhgan/ko-sroberta-multitask\")\n",
      "c:\\Users\\AISW-203-102\\study\\myenv\\lib\\site-packages\\sentence_transformers\\cross_encoder\\CrossEncoder.py:13: TqdmWarning: IProgress not found. Please update jupyter and ipywidgets. See https://ipywidgets.readthedocs.io/en/stable/user_install.html\n",
      "  from tqdm.autonotebook import tqdm, trange\n",
      "c:\\Users\\AISW-203-102\\study\\myenv\\lib\\site-packages\\transformers\\tokenization_utils_base.py:1617: FutureWarning: `clean_up_tokenization_spaces` was not set. It will be set to `True` by default. This behavior will be deprecated in transformers v4.45, and will be then set to `False` by default. For more details check this issue: https://github.com/huggingface/transformers/issues/31884\n",
      "  warnings.warn(\n"
     ]
    }
   ],
   "source": [
    "from langchain.embeddings.sentence_transformer import SentenceTransformerEmbeddings\n",
    "embedding_function = SentenceTransformerEmbeddings(model_name=\"jhgan/ko-sroberta-multitask\")"
   ]
  },
  {
   "cell_type": "code",
   "execution_count": 7,
   "metadata": {},
   "outputs": [],
   "source": [
    "from langchain.vectorstores import FAISS\n",
    "db = FAISS.from_documents(documents, embedding_function )"
   ]
  },
  {
   "cell_type": "code",
   "execution_count": 8,
   "metadata": {},
   "outputs": [
    {
     "name": "stdout",
     "output_type": "stream",
     "text": [
      "측정소명: 용산구, 날짜: 2024-09-26 15:00, pm10농도: 28, pm25농도: 18, 통합대기환경수치: 85\n"
     ]
    },
    {
     "data": {
      "text/plain": [
       "[Document(metadata={}, page_content='측정소명: 용산구, 날짜: 2024-09-26 15:00, pm10농도: 28, pm25농도: 18, 통합대기환경수치: 85'),\n",
       " Document(metadata={}, page_content='측정소명: 중구, 날짜: 2024-09-26 15:00, pm10농도: 23, pm25농도: 18, 통합대기환경수치: 92'),\n",
       " Document(metadata={}, page_content='측정소명: 강북구, 날짜: 2024-09-26 15:00, pm10농도: 16, pm25농도: 8, 통합대기환경수치: 92'),\n",
       " Document(metadata={}, page_content='측정소명: 서대문구, 날짜: 2024-09-26 15:00, pm10농도: 19, pm25농도: 12, 통합대기환경수치: 95')]"
      ]
     },
     "execution_count": 8,
     "metadata": {},
     "output_type": "execute_result"
    }
   ],
   "source": [
    "query = \"용산구 미세먼지\"\n",
    "docs = db.similarity_search(query)\n",
    "print(docs[0].page_content)\n",
    "docs"
   ]
  },
  {
   "cell_type": "code",
   "execution_count": 9,
   "metadata": {},
   "outputs": [],
   "source": [
    "from langchain_community.chat_models import ChatOllama\n",
    "llm = ChatOllama(model=\"gemma2:9b\", temperature=0, base_url=\"http://127.0.0.1:11434/\") #http://127.0.0.1:11434"
   ]
  },
  {
   "cell_type": "code",
   "execution_count": 10,
   "metadata": {},
   "outputs": [
    {
     "name": "stderr",
     "output_type": "stream",
     "text": [
      "C:\\Users\\AISW-203-102\\AppData\\Local\\Temp\\ipykernel_25028\\2257276198.py:5: LangChainDeprecationWarning: The method `Chain.__call__` was deprecated in langchain 0.1.0 and will be removed in 1.0. Use :meth:`~invoke` instead.\n",
      "  result = qa_chain({\"query\": question})\n"
     ]
    },
    {
     "name": "stdout",
     "output_type": "stream",
     "text": [
      "2024년 9월 26일 오후 3시, 용산구의 PM10 농도는 28이고, PM2.5 농도는 18입니다. 통합대기환경수치는 85입니다.  \n",
      "\n"
     ]
    }
   ],
   "source": [
    "#RAG\n",
    "from langchain.chains import RetrievalQA\n",
    "question = \"\"\"용산구 미세먼지 정보에 대해 알려줘\"\"\"\n",
    "qa_chain = RetrievalQA.from_chain_type(llm,retriever=db.as_retriever())\n",
    "result = qa_chain({\"query\": question})\n",
    "print(result['result'])"
   ]
  },
  {
   "cell_type": "code",
   "execution_count": 11,
   "metadata": {},
   "outputs": [],
   "source": [
    "from langchain.prompts import ChatPromptTemplate\n",
    "from langchain.schema.runnable import RunnableMap\n",
    "\n",
    "template = \"\"\"\n",
    "너는 날씨정보를 알려주는 챗봇이야. 대기정보와 관련되지 않은 사용자 문의는 재검색 요청을 반환해야해\n",
    "Answer the question as based only on the following context:\n",
    "{context}\n",
    "\n",
    "Question: {question}\n",
    "\"\"\"\n",
    "\n",
    "prompt = ChatPromptTemplate.from_template(template)"
   ]
  },
  {
   "cell_type": "code",
   "execution_count": 12,
   "metadata": {},
   "outputs": [],
   "source": [
    "retriever = db.as_retriever(search_type=\"similarity\", search_kwargs={'k':5, 'fetch_k': 100})"
   ]
  },
  {
   "cell_type": "code",
   "execution_count": 13,
   "metadata": {},
   "outputs": [],
   "source": [
    "from langchain_community.chat_models import ChatOllama\n",
    "llm = ChatOllama(model=\"gemma2:9b\", temperature=0, base_url=\"http://127.0.0.1:11434/\") #http://127.0.0.1:11434"
   ]
  },
  {
   "cell_type": "code",
   "execution_count": 14,
   "metadata": {},
   "outputs": [],
   "source": [
    "from langchain.schema.runnable import RunnableMap\n",
    "chain = RunnableMap({\n",
    "    \"context\": lambda x: retriever.get_relevant_documents(x['question']),\n",
    "    \"question\": lambda x: x['question']\n",
    "}) | prompt | llm"
   ]
  },
  {
   "cell_type": "code",
   "execution_count": 15,
   "metadata": {},
   "outputs": [
    {
     "name": "stderr",
     "output_type": "stream",
     "text": [
      "C:\\Users\\AISW-203-102\\AppData\\Local\\Temp\\ipykernel_25028\\121337404.py:3: LangChainDeprecationWarning: The method `BaseRetriever.get_relevant_documents` was deprecated in langchain-core 0.1.46 and will be removed in 1.0. Use :meth:`~invoke` instead.\n",
      "  \"context\": lambda x: retriever.get_relevant_documents(x['question']),\n"
     ]
    },
    {
     "data": {
      "text/markdown": [
       "용산구의 PM10 농도는 28이고, PM2.5 농도는 18이며, 통합대기환경수치는 85입니다.  \n"
      ],
      "text/plain": [
       "<IPython.core.display.Markdown object>"
      ]
     },
     "execution_count": 15,
     "metadata": {},
     "output_type": "execute_result"
    }
   ],
   "source": [
    "from IPython.display import Markdown\n",
    "Markdown(chain.invoke({'question': \"용산구 대기정보에 대해 알려줘\"}).content)"
   ]
  },
  {
   "cell_type": "code",
   "execution_count": 5,
   "metadata": {},
   "outputs": [
    {
     "ename": "SyntaxError",
     "evalue": "'{' was never closed (2169585002.py, line 28)",
     "output_type": "error",
     "traceback": [
      "\u001b[1;36m  Cell \u001b[1;32mIn[5], line 28\u001b[1;36m\u001b[0m\n\u001b[1;33m    info = {\u001b[0m\n\u001b[1;37m           ^\u001b[0m\n\u001b[1;31mSyntaxError\u001b[0m\u001b[1;31m:\u001b[0m '{' was never closed\n"
     ]
    }
   ],
   "source": [
    "import xml.etree.ElementTree as ET\n",
    "import requests\n",
    "\n",
    "# Your API key and URL\n",
    "key = '6448425a457377653630797a536a4c'\n",
    "url = f'http://openapi.seoul.go.kr:8088/{key}/xml/parkingKickboard/1/30/'\n",
    "\n",
    "# Fetch data from the API\n",
    "response = requests.get(url)\n",
    "content = response.content.decode('utf-8')\n",
    "\n",
    "# Parse the XML content\n",
    "root = ET.fromstring(content)\n",
    "\n",
    "# Function to filter and get scooter parking data\n",
    "def scoot_parklot_data(root, region):\n",
    "    scooter_info = []\n",
    "    for item in root.findall('.//row'):\n",
    "        sgg_nm = item.find('SGG_NM').text if item.find('SGG_NM') is not None else ''\n",
    "        if region in sgg_nm:\n",
    "            info = {\n",
    "                '순번': item.find('SN').text if item.find('SN') is not None else '',\n",
    "                '시군구명': sgg_nm,\n",
    "                '주소': item.find('PSTN').text if item.find('PSTN') is not None else '',\n",
    "                '상세위치': item.find('DTL_PSTN').text if item.find('DTL_PSTN') is not None else '',\n",
    "                '거치대 유무': item.find('STAND_YN').text if item.find('STAND_YN') is not None else '',\n",
    "                '거치대 크기': item.find('STAND_SIZE').text if item.find('STAND_SIZE') is not None else '',\n",
    "            }\n",
    "            scooter_info.append(info)\n",
    "    return scooter_info\n",
    "scooter_info = scoot_parklot_data(root, region)\n",
    "print(scooter_info)\n"
   ]
  }
 ],
 "metadata": {
  "kernelspec": {
   "display_name": "venv",
   "language": "python",
   "name": "python3"
  },
  "language_info": {
   "codemirror_mode": {
    "name": "ipython",
    "version": 3
   },
   "file_extension": ".py",
   "mimetype": "text/x-python",
   "name": "python",
   "nbconvert_exporter": "python",
   "pygments_lexer": "ipython3",
   "version": "3.10.11"
  }
 },
 "nbformat": 4,
 "nbformat_minor": 2
}
